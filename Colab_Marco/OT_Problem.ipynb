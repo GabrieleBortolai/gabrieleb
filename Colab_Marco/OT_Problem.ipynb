{
 "cells": [
  {
   "cell_type": "code",
   "execution_count": null,
   "metadata": {},
   "outputs": [],
   "source": [
    "import cvxpy as cp\n",
    "import numpy as np\n",
    "import matplotlib.pyplot as plt\n",
    "from scipy.spatial.distance import cdist"
   ]
  },
  {
   "cell_type": "code",
   "execution_count": null,
   "metadata": {},
   "outputs": [],
   "source": [
    "def dist(x,y):\n",
    "\n",
    "    x = np.expand_dims(x, axis = 1)\n",
    "    y = np.expand_dims(y, axis = 1)\n",
    "    \n",
    "    d = np.zeros([x.shape[0], y.shape[0]])\n",
    "    d= cdist(x, y)\n",
    "    # for i in range(x.shape[0]):\n",
    "    #     for j in range(y.shape[0]):\n",
    "\n",
    "    #         d[i][j] = np.abs(x[i] - y[j])\n",
    "\n",
    "    return d"
   ]
  },
  {
   "cell_type": "code",
   "execution_count": null,
   "metadata": {},
   "outputs": [],
   "source": [
    "n = 100\n",
    "m = 1000\n",
    "\n",
    "mu, sigma = 0, 0.5\n",
    "\n",
    "#distributions\n",
    "seed = np.random.seed(seed = 1)\n",
    "\n",
    "X = np.random.normal(mu, sigma, n)\n",
    "Y = np.random.normal(mu + 10, sigma, m)\n",
    "\n",
    "#weights\n",
    "a = np.ones([n])\n",
    "b = np.ones([m])\n",
    "\n",
    "a_n = a/np.sum(a)\n",
    "b_n = b/np.sum(b)\n",
    "\n",
    "u = np.ones([n])\n",
    "v = np.ones([m])\n",
    "\n",
    "plt.hist(X, weights = a_n, bins = 10)\n",
    "plt.hist(Y, weights = b_n, bins = 10)"
   ]
  },
  {
   "cell_type": "code",
   "execution_count": null,
   "metadata": {},
   "outputs": [],
   "source": [
    "d = dist(X, Y)\n",
    "print(d)"
   ]
  },
  {
   "cell_type": "code",
   "execution_count": null,
   "metadata": {},
   "outputs": [],
   "source": [
    "M = dist(X,Y)\n",
    "\n",
    "P = cp.Variable((n,m))\n",
    "\n",
    "U = [0 <= P, cp.sum(P, axis = 1) <= b_n, cp.sum(P, axis = 0) <= a_n, cp.sum(cp.sum(P, axis = 1), axis = 0) == cp.minimum(cp.sum(a_n), cp.sum(b_n))]\n",
    "\n",
    "objective = cp.Minimize(cp.sum(cp.sum(cp.multiply(P, M))) + cp.abs(cp.sum(a_n, axis = 0) - cp.sum(b_n, axis = 0)))\n",
    "\n",
    "prob = cp.Problem(objective, U)\n",
    "result = prob.solve(solver = cp.CVXOPT)\n",
    "\n",
    "plt.imshow(P.value, cmap = 'viridis')\n",
    "\n",
    "W = cp.sum(cp.multiply(P, M)).value\n",
    "\n",
    "print(W)\n",
    "print(P.value)"
   ]
  },
  {
   "cell_type": "code",
   "execution_count": null,
   "metadata": {},
   "outputs": [],
   "source": [
    "def wasserstein_dist(a, b, wa, wb):\n",
    "    \n",
    "    M = dist(a,b)\n",
    "\n",
    "    P = cp.Variable((a.shape[0], b.shape[0]))\n",
    "\n",
    "    U = [0 <= P, cp.sum(P, axis = 1) <= wa, cp.sum(P, axis = 0) <= wb, cp.sum(cp.sum(P, axis = 1), axis = 0) == cp.minimum(cp.sum(wa), cp.sum(wb))]\n",
    "\n",
    "    objective = cp.Minimize(cp.sum(cp.sum(cp.multiply(P, M))) + cp.abs(cp.sum(wa, axis = 0) - cp.sum(wb, axis = 0)))\n",
    "\n",
    "    prob = cp.Problem(objective, U)\n",
    "    result = prob.solve(solver = cp.MOSEK, verbose = True)\n",
    "\n",
    "    plt.imshow(P.value, cmap = 'viridis')\n",
    "\n",
    "    W = cp.sum(cp.multiply(P, M)).value\n",
    "\n",
    "    print(W)\n",
    "    print(P.value)\n",
    "\n",
    "    return W"
   ]
  },
  {
   "cell_type": "code",
   "execution_count": null,
   "metadata": {},
   "outputs": [],
   "source": [
    "W_dist = wasserstein_dist(X, Y, a_n, b_n)"
   ]
  },
  {
   "cell_type": "code",
   "execution_count": null,
   "metadata": {},
   "outputs": [],
   "source": [
    "M = dist(X,Y)\n",
    "\n",
    "P2 = cp.Variable((n,m))\n",
    "\n",
    "U2 = [0 <= P2, cp.sum(P2, axis = 1) <= a_n, cp.sum(P2, axis = 0) <= b, cp.sum(cp.sum(P2, axis = 1), axis = 0) == cp.minimum(cp.sum(a_n), cp.sum(b))]\n",
    "\n",
    "objective2 = cp.Minimize(cp.sum(cp.sum(cp.multiply(P2, M))) + cp.abs(cp.sum(a_n, axis = 0) - cp.sum(b, axis = 0)))\n",
    "\n",
    "prob2 = cp.Problem(objective2, U2)\n",
    "result2 = prob2.solve(solver = cp.ECOS)\n",
    "\n",
    "plt.imshow(P2.value, cmap = 'viridis')\n",
    "\n",
    "W2 = cp.sum(cp.multiply(P2, M)).value\n",
    "\n",
    "print(W2)\n",
    "print(P2.value)"
   ]
  },
  {
   "cell_type": "code",
   "execution_count": null,
   "metadata": {},
   "outputs": [],
   "source": [
    "# print(cp.sum(cp.sum(cp.multiply(P2, M))).value)\n",
    "# print(cp.abs(cp.sum(a) - cp.sum(b)).value)\n",
    "print(cp.sum(a_n).value)\n",
    "print(cp.sum(b).value)"
   ]
  }
 ],
 "metadata": {
  "kernelspec": {
   "display_name": "OT_optim",
   "language": "python",
   "name": "python3"
  },
  "language_info": {
   "codemirror_mode": {
    "name": "ipython",
    "version": 3
   },
   "file_extension": ".py",
   "mimetype": "text/x-python",
   "name": "python",
   "nbconvert_exporter": "python",
   "pygments_lexer": "ipython3",
   "version": "3.11.6"
  },
  "orig_nbformat": 4
 },
 "nbformat": 4,
 "nbformat_minor": 2
}
