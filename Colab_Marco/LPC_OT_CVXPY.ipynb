{
 "cells": [
  {
   "cell_type": "code",
   "execution_count": 1,
   "metadata": {},
   "outputs": [],
   "source": [
    "from data_gen_1D_CVXPY import Generator\n",
    "import matplotlib.pyplot as plt\n",
    "from matplotlib.offsetbox import AnchoredText\n",
    "import cvxpy as cp\n",
    "import numpy as np\n",
    "from scipy.stats import norm\n",
    "import time"
   ]
  },
  {
   "cell_type": "code",
   "execution_count": 2,
   "metadata": {},
   "outputs": [],
   "source": [
    "def dist(x,y):\n",
    "\n",
    "    d = np.zeros([x.shape[0], y.shape[0]])\n",
    "    for i in range(x.shape[0]):\n",
    "        for j in range(y.shape[0]):\n",
    "\n",
    "            d[i][j] = np.abs(x[i] - y[j])\n",
    "\n",
    "    return d"
   ]
  },
  {
   "cell_type": "code",
   "execution_count": 3,
   "metadata": {},
   "outputs": [],
   "source": [
    "def wasserstein_distance(a, b, wa, wb):\n",
    "    \n",
    "    M = dist(a,b)\n",
    "\n",
    "    P = cp.Variable((a.shape[0], b.shape[0]))\n",
    "\n",
    "    U = [0 <= P, cp.sum(P, axis = 1) <= wa, cp.sum(P, axis = 0) <= wb, cp.sum(cp.sum(P, axis = 1), axis = 0) == cp.minimum(cp.sum(wa), cp.sum(wb))]\n",
    "\n",
    "    objective = cp.Minimize(cp.sum(cp.sum(cp.multiply(P, M))) + cp.abs(cp.sum(wa, axis = 0) - cp.sum(wb, axis = 0)))\n",
    "\n",
    "    prob = cp.Problem(objective, U)\n",
    "    result = prob.solve(solver = cp.ECOS)\n",
    "\n",
    "    plt.imshow(P.value, cmap = 'viridis')\n",
    "\n",
    "    W = cp.sum(cp.multiply(P, M)).value\n",
    "\n",
    "    print(W)\n",
    "    print(P.value)\n",
    "\n",
    "    return W"
   ]
  },
  {
   "cell_type": "code",
   "execution_count": 4,
   "metadata": {},
   "outputs": [],
   "source": [
    "# This funciton evaluetes the Z_score.\n",
    "\n",
    "def Z_score(H0, t1):\n",
    "    \n",
    "    if t1 <= np.max(H0):\n",
    "        p_value = (np.count_nonzero(H0 >= t1) + 1)/(H0.size() + 1)\n",
    "\n",
    "    if t1 > np.max(H0):\n",
    "        p_value = 1/(H0.size() + 1)\n",
    "        \n",
    "    return norm.ppf(1-p_value)"
   ]
  },
  {
   "cell_type": "code",
   "execution_count": 5,
   "metadata": {},
   "outputs": [],
   "source": [
    "# This function plots and saves the distributions of the Wasserstein distances and prints the Z_score on the plot.\n",
    "\n",
    "def Plotter(W_dist_calibration, W_dist, color, label, save):\n",
    "\n",
    "    fig, ax = plt.subplots(1, 1, figsize = (7, 7))\n",
    "\n",
    "    ax.set_title('Wasserstein distance', fontsize = 20)\n",
    "    ax.set_xlabel('$W_{1}$', fontsize = 15)\n",
    "    ax.set_ylabel('Density', fontsize = 15)\n",
    "\n",
    "    z_score = Z_score(W_dist_calibration, np.median(W_dist))\n",
    "    anchored_text_test = AnchoredText('$Z_{score}$:'+str('%.3f' % z_score.item()), bbox_to_anchor = (1, 0.85), bbox_transform = ax.transAxes, loc = 'right')\n",
    "\n",
    "    ax.hist(W_dist_calibration, bins = 'auto', color = color[0], density = True, label = 'ref-'+str(label[0]), alpha = 0.5)\n",
    "    ax.hist(W_dist, bins = 'auto', color = color[1], density = True, label = 'ref-'+str(label[1]), alpha = 0.5)\n",
    "    ax.legend()\n",
    "\n",
    "    ax.add_artist(anchored_text_test)\n",
    "\n",
    "    if save:\n",
    "\n",
    "        fig.savefig(f'./LPC_Plot/W_dist_{label}.pdf')\n",
    "\n"
   ]
  },
  {
   "cell_type": "code",
   "execution_count": null,
   "metadata": {},
   "outputs": [],
   "source": [
    "iteration = 100\n",
    "\n",
    "# Number of signal events.\n",
    "NS = 0\n",
    "# Size of background sample.\n",
    "NR = 2000\n",
    "\n",
    "# Size of reference sample.\n",
    "N_R = 200000\n",
    "\n",
    "# Here, I define the tensors where I will store the results.\n",
    "W_dist_calibration = np.zeros([iteration])\n",
    "W_dist = np.zeros([iteration])\n",
    "\n",
    "# These are the different classes.\n",
    "classes = ['NP1', 'NP2', 'NP3', 'NP4']\n",
    "\n",
    "# This array represents the values of 'NS' and 'NR' for the different classes.\n",
    "values = [[10, 1990], [110, 1890], [80, 1920], [0, 2000]]\n",
    "\n",
    "# This parameter defines whether to save the plots or not.\n",
    "save = True\n",
    "Pois_ON = False\n",
    "\n",
    "st = time.time()\n",
    "l = 0\n",
    "\n",
    "for sig_type in classes:\n",
    "    \n",
    "    for seed in range(iteration):\n",
    "\n",
    "        # Here, I generate two samples using the Generator and then evaluete the Wasserstein distance. In this case the samples belong to the same class 'ref'.\n",
    "        ref, data = Generator(seed, NS, NR, N_R, 'ref', Pois_ON)\n",
    "        W_dist_calibration[seed] = wasserstein_distance(np.squeeze(ref), np.squeeze(data), np.ones(ref.size(0))/ref.size(0), np.ones(data.size(0))/data.size(0))\n",
    "\n",
    "        # Here, I generate two new samples using the Generator and then evaluete the Wasserstein distance. In this case the forst sample belongs to the class 'ref' and the second to the class sig_type.\n",
    "        ref, data_true  = Generator(seed + int(1e6), values[l][0], values[l][1], N_R, sig_type, Pois_ON)\n",
    "        W_dist[seed] = wasserstein_distance(np.squeeze(ref), np.squeeze(data_true), np.ones(ref.size(0))/ref.size(0), np.ones(data_true.size(0))/data_true.size(0))\n",
    "    \n",
    "    Plotter(W_dist_calibration, W_dist, ['#ff7f0e', '#2ca02c'], ['ref', sig_type], save)\n",
    "    l = l+1\n",
    "\n",
    "et = time.time()\n",
    "\n",
    "print(f'Computational time: {et-st} s')"
   ]
  },
  {
   "cell_type": "code",
   "execution_count": 6,
   "metadata": {},
   "outputs": [],
   "source": [
    "iteration = 100\n",
    "\n",
    "# Number of signal events.\n",
    "NS = 0\n",
    "# Size of background sample.\n",
    "NR = 2000\n",
    "\n",
    "# Size of reference sample.\n",
    "N_R = 200000\n",
    "\n",
    "# Here, I define the tensors where I will store the results.\n",
    "W_dist_calibration = np.zeros([iteration])\n",
    "W_dist = np.zeros([iteration])\n",
    "\n",
    "# These are the different classes.\n",
    "classes = ['NP1', 'NP2', 'NP3', 'NP4']\n",
    "\n",
    "# This array represents the values of 'NS' and 'NR' for the different classes.\n",
    "values = [[10, 1990], [110, 1890], [80, 1920], [0, 2000]]\n",
    "\n",
    "# This parameter defines whether to save the plots or not.\n",
    "save = True\n",
    "Pois_ON = False\n",
    "\n",
    "ref, data = Generator(0, NS, NR, N_R, 'ref', Pois_ON)\n",
    "W_dist_calibration[0] = wasserstein_distance(np.squeeze(ref), np.squeeze(data), np.ones(ref.shape[0])/ref.shape[0], np.ones(data.shape[0])/data.shape[0])"
   ]
  },
  {
   "cell_type": "code",
   "execution_count": 1,
   "metadata": {},
   "outputs": [
    {
     "ename": "NameError",
     "evalue": "name 'W_dist_calibration' is not defined",
     "output_type": "error",
     "traceback": [
      "\u001b[0;31m---------------------------------------------------------------------------\u001b[0m",
      "\u001b[0;31mNameError\u001b[0m                                 Traceback (most recent call last)",
      "\u001b[1;32m/home/gabrieleb/Colab_Marco/LPC_OT_CVXPY.ipynb Cell 8\u001b[0m line \u001b[0;36m1\n\u001b[0;32m----> <a href='vscode-notebook-cell://ssh-remote%2B10.187.11.221/home/gabrieleb/Colab_Marco/LPC_OT_CVXPY.ipynb#X10sdnNjb2RlLXJlbW90ZQ%3D%3D?line=0'>1</a>\u001b[0m \u001b[39mprint\u001b[39m(W_dist_calibration[\u001b[39m0\u001b[39m])\n",
      "\u001b[0;31mNameError\u001b[0m: name 'W_dist_calibration' is not defined"
     ]
    }
   ],
   "source": [
    "print(W_dist_calibration[0])"
   ]
  }
 ],
 "metadata": {
  "kernelspec": {
   "display_name": "pytorch",
   "language": "python",
   "name": "python3"
  },
  "language_info": {
   "codemirror_mode": {
    "name": "ipython",
    "version": 3
   },
   "file_extension": ".py",
   "mimetype": "text/x-python",
   "name": "python",
   "nbconvert_exporter": "python",
   "pygments_lexer": "ipython3",
   "version": "3.11.6"
  },
  "orig_nbformat": 4
 },
 "nbformat": 4,
 "nbformat_minor": 2
}
