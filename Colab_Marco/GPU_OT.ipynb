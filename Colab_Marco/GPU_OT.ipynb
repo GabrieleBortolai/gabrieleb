{
 "cells": [
  {
   "cell_type": "code",
   "execution_count": 1,
   "metadata": {},
   "outputs": [
    {
     "name": "stdout",
     "output_type": "stream",
     "text": [
      "Using cuda device\n"
     ]
    }
   ],
   "source": [
    "import ot\n",
    "import torch\n",
    "from multiprocessing import Pool\n",
    "\n",
    "#GPU\n",
    "device = \"cuda\" if torch.cuda.is_available() else \"cpu\"\n",
    "print(f\"Using {device} device\")"
   ]
  },
  {
   "cell_type": "code",
   "execution_count": 13,
   "metadata": {},
   "outputs": [],
   "source": [
    "def wasserstein_distance(a, b, wa, wb):\n",
    "        \n",
    "    W_dist = ot.wasserstein_1d(a, b, wa, wb, p = 1).to(device)\n",
    "\n",
    "    return W_dist"
   ]
  },
  {
   "cell_type": "code",
   "execution_count": 3,
   "metadata": {},
   "outputs": [],
   "source": [
    "def fun(a, b, wa, wb):\n",
    "    W_dist = torch.zeros(wa.size(0))\n",
    "\n",
    "    for i in range(wa.size(0)):\n",
    "        W_dist[i] = wasserstein_distance(a, b, wa[i], wb[i])\n",
    "\n",
    "    return W_dist"
   ]
  },
  {
   "cell_type": "code",
   "execution_count": 4,
   "metadata": {},
   "outputs": [],
   "source": [
    "def dataset_maker(n, m):\n",
    "    \n",
    "    zero = torch.zeros(m, n).to(device)\n",
    "    one = torch.zeros(m, n).to(device)\n",
    "    two = torch.zeros(m, n).to(device)\n",
    "    three = torch.zeros(m, n).to(device)\n",
    "\n",
    "    for i in range(m):\n",
    "        zero[i] =  torch.tensor(ot.datasets.make_1D_gauss(n, m = i + 10, s = 5))\n",
    "        one[i] =  torch.tensor(ot.datasets.make_1D_gauss(n, m = i + 40, s = 5)) \n",
    "        two[i] =  torch.tensor(ot.datasets.make_1D_gauss(n, m = i + 50, s = 5))\n",
    "        three[i] =  torch.tensor(ot.datasets.make_1D_gauss(n, m = i + 70, s = 5)) \n",
    "\n",
    "    return torch.stack([zero, one, two, three])\n"
   ]
  },
  {
   "cell_type": "code",
   "execution_count": 5,
   "metadata": {},
   "outputs": [],
   "source": [
    "def iterable(data, x):\n",
    "\n",
    "    for i in range(data.size(0)):\n",
    "\n",
    "        yield([x, x, data[0], data[i]])"
   ]
  },
  {
   "cell_type": "code",
   "execution_count": 6,
   "metadata": {},
   "outputs": [],
   "source": [
    "m = 100\n",
    "n = 100\n",
    "\n",
    "dataset = dataset_maker(m, n).to(device)"
   ]
  },
  {
   "cell_type": "code",
   "execution_count": 15,
   "metadata": {},
   "outputs": [
    {
     "name": "stdout",
     "output_type": "stream",
     "text": [
      "0.46358418464660645\n"
     ]
    }
   ],
   "source": [
    "import time \n",
    "\n",
    "x = torch.arange(n).to(device)\n",
    "\n",
    "W_dist = torch.zeros(dataset.size(0), dataset.size(1)).to(device)\n",
    "\n",
    "st = time.time()\n",
    "for i in range(dataset.size(0)):\n",
    "\n",
    "    W_dist[i] = fun(x, x, dataset[0], dataset[i]).to(device)\n",
    "\n",
    "et = time.time()\n",
    "\n",
    "print(et-st)"
   ]
  }
 ],
 "metadata": {
  "kernelspec": {
   "display_name": "pytorch",
   "language": "python",
   "name": "python3"
  },
  "language_info": {
   "codemirror_mode": {
    "name": "ipython",
    "version": 3
   },
   "file_extension": ".py",
   "mimetype": "text/x-python",
   "name": "python",
   "nbconvert_exporter": "python",
   "pygments_lexer": "ipython3",
   "version": "3.10.12"
  },
  "orig_nbformat": 4
 },
 "nbformat": 4,
 "nbformat_minor": 2
}
