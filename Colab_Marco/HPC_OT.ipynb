{
 "cells": [
  {
   "cell_type": "code",
   "execution_count": 2,
   "metadata": {},
   "outputs": [],
   "source": [
    "import ot\n",
    "import torch\n",
    "from multiprocessing import Pool\n",
    "import matplotlib.pyplot as plt\n",
    "from scipy.stats import norm\n",
    "from matplotlib.offsetbox import AnchoredText\n",
    "from data_gen_1D import Generator"
   ]
  },
  {
   "cell_type": "code",
   "execution_count": 3,
   "metadata": {},
   "outputs": [],
   "source": [
    "def wasserstein_distance(a, b, wa, wb):\n",
    "        \n",
    "    W_dist = ot.wasserstein_1d(a, b, wa, wb, p = 1)\n",
    "\n",
    "    return W_dist"
   ]
  },
  {
   "cell_type": "code",
   "execution_count": 4,
   "metadata": {},
   "outputs": [],
   "source": [
    "def Z_score(H0, t1):\n",
    "    \n",
    "    if t1 <= torch.max(H0):\n",
    "        p_value = (torch.count_nonzero(H0 >= t1) + 1)/(torch.tensor(H0.size()) + 1)\n",
    "\n",
    "    if t1 > torch.max(H0):\n",
    "        p_value = 1/(torch.tensor(H0.size()) + 1)\n",
    "        \n",
    "    return torch.tensor(norm.ppf(1-p_value))"
   ]
  },
  {
   "cell_type": "code",
   "execution_count": 11,
   "metadata": {},
   "outputs": [],
   "source": [
    "def Plotter(W_dist_calibration, W_dist, color, label, save):\n",
    "\n",
    "    fig, ax = plt.subplots(1, 1, figsize = (7, 7))\n",
    "\n",
    "    ax.set_title('Wasserstein distance', fontsize = 20)\n",
    "    ax.set_xlabel('$W_{1}$', fontsize = 15)\n",
    "    ax.set_ylabel('Density', fontsize = 15)\n",
    "\n",
    "    z_score = Z_score(W_dist_calibration, torch.median(W_dist))\n",
    "    anchored_text_test = AnchoredText('$Z_{score}$:'+str('%.3f' % z_score.item()), bbox_to_anchor = (1, 0.85), bbox_transform = ax.transAxes, loc = 'right')\n",
    "\n",
    "    ax.hist(W_dist_calibration, bins = 'auto', color = color[0], density = True, label = 'ref-'+str(label[0]), alpha = 0.5)\n",
    "    ax.hist(W_dist, bins = 'auto', color = color[1], density = True, label = 'ref-'+str(label[1]), alpha = 0.5)\n",
    "    ax.legend()\n",
    "\n",
    "    ax.add_artist(anchored_text_test)\n",
    "\n",
    "    if save:\n",
    "\n",
    "        fig.savefig(f'/home/gabrieleb/Colab_Marco/HPC_Plot/W_dist_{label}.pdf')\n",
    "\n"
   ]
  },
  {
   "cell_type": "code",
   "execution_count": 10,
   "metadata": {},
   "outputs": [],
   "source": [
    "def fun(iteration, sig_type, value, save):\n",
    "\n",
    "    Pois_ON = False\n",
    "\n",
    "    NS = 0\n",
    "    NR = 2000\n",
    "\n",
    "    N_R = 200000\n",
    "\n",
    "    W_dist_calibration = torch.zeros(iteration)\n",
    "    W_dist = torch.zeros(iteration)\n",
    "    \n",
    "    for seed in range(iteration):\n",
    "\n",
    "        #calibration\n",
    "        ref, data = Generator(seed, NS, NR, N_R, 'ref', Pois_ON)\n",
    "        W_dist_calibration[seed] = wasserstein_distance(torch.squeeze(ref), torch.squeeze(data), torch.tensor(1/ref.size(0)), torch.tensor(1/data.size(0)))\n",
    "\n",
    "        #classes\n",
    "        ref, data_true  = Generator(seed + int(1e6), value[0], value[1], N_R, sig_type, Pois_ON)\n",
    "        W_dist[seed] = wasserstein_distance(torch.squeeze(ref), torch.squeeze(data_true), torch.tensor(1/ref.size(0)), torch.tensor(1/data_true.size(0)))\n",
    "    \n",
    "    Plotter(W_dist_calibration, W_dist, ['#ff7f0e', '#2ca02c'], ['ref', sig_type], save)"
   ]
  },
  {
   "cell_type": "code",
   "execution_count": 7,
   "metadata": {},
   "outputs": [],
   "source": [
    "def iterable(classes, iteration, values, save):\n",
    "\n",
    "    for i in range(len(classes)):\n",
    "\n",
    "        yield([iteration, classes[i], values[i], save])"
   ]
  },
  {
   "cell_type": "code",
   "execution_count": 13,
   "metadata": {},
   "outputs": [
    {
     "name": "stderr",
     "output_type": "stream",
     "text": [
      "/data/gabrieleb/miniconda/envs/pytorch/lib/python3.11/site-packages/ot/lp/solver_1d.py:41: UserWarning: The use of `x.T` on tensors of dimension other than 2 to reverse their shape is deprecated and it will throw an error in a future release. Consider `x.mT` to transpose batches of matrices or `x.permute(*torch.arange(x.ndim - 1, -1, -1))` to reverse the dimensions of a tensor. (Triggered internally at /croot/pytorch_1686931851744/work/aten/src/ATen/native/TensorShape.cpp:3571.)\n",
      "  cws = cws.T.contiguous()\n",
      "/data/gabrieleb/miniconda/envs/pytorch/lib/python3.11/site-packages/ot/lp/solver_1d.py:41: UserWarning: The use of `x.T` on tensors of dimension other than 2 to reverse their shape is deprecated and it will throw an error in a future release. Consider `x.mT` to transpose batches of matrices or `x.permute(*torch.arange(x.ndim - 1, -1, -1))` to reverse the dimensions of a tensor. (Triggered internally at /croot/pytorch_1686931851744/work/aten/src/ATen/native/TensorShape.cpp:3571.)\n",
      "  cws = cws.T.contiguous()\n",
      "/data/gabrieleb/miniconda/envs/pytorch/lib/python3.11/site-packages/ot/lp/solver_1d.py:41: UserWarning: The use of `x.T` on tensors of dimension other than 2 to reverse their shape is deprecated and it will throw an error in a future release. Consider `x.mT` to transpose batches of matrices or `x.permute(*torch.arange(x.ndim - 1, -1, -1))` to reverse the dimensions of a tensor. (Triggered internally at /croot/pytorch_1686931851744/work/aten/src/ATen/native/TensorShape.cpp:3571.)\n",
      "  cws = cws.T.contiguous()\n",
      "/data/gabrieleb/miniconda/envs/pytorch/lib/python3.11/site-packages/ot/lp/solver_1d.py:41: UserWarning: The use of `x.T` on tensors of dimension other than 2 to reverse their shape is deprecated and it will throw an error in a future release. Consider `x.mT` to transpose batches of matrices or `x.permute(*torch.arange(x.ndim - 1, -1, -1))` to reverse the dimensions of a tensor. (Triggered internally at /croot/pytorch_1686931851744/work/aten/src/ATen/native/TensorShape.cpp:3571.)\n",
      "  cws = cws.T.contiguous()\n"
     ]
    },
    {
     "name": "stdout",
     "output_type": "stream",
     "text": [
      "Computational time: 202.28816723823547\n"
     ]
    }
   ],
   "source": [
    "import time \n",
    "\n",
    "iteration = 1000\n",
    "save = True\n",
    "\n",
    "classes = ['NP1', 'NP2', 'NP3', 'NP4']\n",
    "values = [[10, 1990], [110, 1890], [80, 1920], [0, 2000]]\n",
    "\n",
    "ite = iterable(classes, iteration, values, save)\n",
    "\n",
    "with Pool (processes = 4) as p:\n",
    "    st = time.time()\n",
    "\n",
    "    W_dist = p.starmap(fun, ite)\n",
    "\n",
    "    et = time.time()\n",
    "    print(f'Computational time: {et-st}')"
   ]
  }
 ],
 "metadata": {
  "kernelspec": {
   "display_name": "pytorch",
   "language": "python",
   "name": "python3"
  },
  "language_info": {
   "codemirror_mode": {
    "name": "ipython",
    "version": 3
   },
   "file_extension": ".py",
   "mimetype": "text/x-python",
   "name": "python",
   "nbconvert_exporter": "python",
   "pygments_lexer": "ipython3",
   "version": "3.11.4"
  },
  "orig_nbformat": 4
 },
 "nbformat": 4,
 "nbformat_minor": 2
}
