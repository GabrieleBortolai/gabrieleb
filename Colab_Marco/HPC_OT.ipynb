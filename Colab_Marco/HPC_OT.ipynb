{
 "cells": [
  {
   "cell_type": "code",
   "execution_count": 2,
   "metadata": {},
   "outputs": [],
   "source": [
    "import ot\n",
    "import torch\n",
    "from multiprocessing import Pool"
   ]
  },
  {
   "cell_type": "code",
   "execution_count": 50,
   "metadata": {},
   "outputs": [],
   "source": [
    "def wasserstein_distance(a, b, wa, wb):\n",
    "        \n",
    "    W_dist = ot.wasserstein_1d(a, b, wa, wb, p = 1)\n",
    "\n",
    "    return W_dist"
   ]
  },
  {
   "cell_type": "code",
   "execution_count": 71,
   "metadata": {},
   "outputs": [],
   "source": [
    "def fun(a, b, wa, wb):\n",
    "    W_dist = torch.zeros(wa.size(0))\n",
    "\n",
    "    for i in range(wa.size(0)):\n",
    "        W_dist[i] = wasserstein_distance(a, b, wa[i], wb[i])\n",
    "\n",
    "    return W_dist"
   ]
  },
  {
   "cell_type": "code",
   "execution_count": 83,
   "metadata": {},
   "outputs": [],
   "source": [
    "def dataset_maker(n, m):\n",
    "    \n",
    "    zero = torch.zeros(m, n)\n",
    "    one = torch.zeros(m, n)\n",
    "    two = torch.zeros(m, n)\n",
    "    three = torch.zeros(m, n)\n",
    "\n",
    "    for i in range(m):\n",
    "        zero[i] =  torch.tensor(ot.datasets.make_1D_gauss(n, m = i + 10, s = 5))\n",
    "        one[i] =  torch.tensor(ot.datasets.make_1D_gauss(n, m = i + 40, s = 5)) \n",
    "        two[i] =  torch.tensor(ot.datasets.make_1D_gauss(n, m = i + 50, s = 5))\n",
    "        three[i] =  torch.tensor(ot.datasets.make_1D_gauss(n, m = i + 70, s = 5)) \n",
    "\n",
    "    return torch.stack([zero, one, two, three])\n"
   ]
  },
  {
   "cell_type": "code",
   "execution_count": 103,
   "metadata": {},
   "outputs": [],
   "source": [
    "def iterable(data, x):\n",
    "\n",
    "    for i in range(data.size(0)):\n",
    "\n",
    "        yield([x, x, data[0], data[i]])"
   ]
  },
  {
   "cell_type": "code",
   "execution_count": 92,
   "metadata": {},
   "outputs": [],
   "source": [
    "m = 100\n",
    "n = 100\n",
    "\n",
    "dataset = dataset_maker(m, n)"
   ]
  },
  {
   "cell_type": "code",
   "execution_count": 93,
   "metadata": {},
   "outputs": [
    {
     "name": "stdout",
     "output_type": "stream",
     "text": [
      "0.20290732383728027\n",
      "tensor([[ 0.0000,  0.0000,  0.0000,  0.0000,  0.0000,  0.0000,  0.0000,  0.0000,\n",
      "          0.0000,  0.0000,  0.0000,  0.0000,  0.0000,  0.0000,  0.0000,  0.0000,\n",
      "          0.0000,  0.0000,  0.0000,  0.0000,  0.0000,  0.0000,  0.0000,  0.0000,\n",
      "          0.0000,  0.0000,  0.0000,  0.0000,  0.0000,  0.0000,  0.0000,  0.0000,\n",
      "          0.0000,  0.0000,  0.0000,  0.0000,  0.0000,  0.0000,  0.0000,  0.0000,\n",
      "          0.0000,  0.0000,  0.0000,  0.0000,  0.0000,  0.0000,  0.0000,  0.0000,\n",
      "          0.0000,  0.0000,  0.0000,  0.0000,  0.0000,  0.0000,  0.0000,  0.0000,\n",
      "          0.0000,  0.0000,  0.0000,  0.0000,  0.0000,  0.0000,  0.0000,  0.0000,\n",
      "          0.0000,  0.0000,  0.0000,  0.0000,  0.0000,  0.0000,  0.0000,  0.0000,\n",
      "          0.0000,  0.0000,  0.0000,  0.0000,  0.0000,  0.0000,  0.0000,  0.0000,\n",
      "          0.0000,  0.0000,  0.0000,  0.0000,  0.0000,  0.0000,  0.0000,  0.0000,\n",
      "          0.0000,  0.0000,  0.0000,  0.0000,  0.0000,  0.0000,  0.0000,  0.0000,\n",
      "          0.0000,  0.0000,  0.0000,  0.0000],\n",
      "        [29.7774, 29.8579, 29.9126, 29.9483, 29.9705, 29.9839, 29.9915, 29.9957,\n",
      "         29.9979, 29.9990, 29.9996, 29.9998, 29.9999, 30.0000, 30.0000, 30.0000,\n",
      "         30.0000, 30.0000, 30.0000, 30.0000, 30.0000, 30.0000, 30.0000, 30.0000,\n",
      "         30.0000, 30.0000, 30.0000, 30.0000, 30.0000, 30.0000, 30.0000, 30.0000,\n",
      "         30.0000, 30.0000, 30.0000, 30.0000, 30.0000, 29.9999, 29.9998, 29.9996,\n",
      "         29.9990, 29.9979, 29.9957, 29.9915, 29.9839, 29.9705, 29.9483, 29.9126,\n",
      "         29.8579, 29.7774, 29.6638, 29.5095, 29.3077, 29.0528, 28.7408, 28.3697,\n",
      "         27.9396, 27.4521, 26.9102, 26.3177, 25.6791, 24.9991, 24.2820, 23.5322,\n",
      "         22.7538, 21.9501, 21.1245, 20.2798, 19.4185, 18.5427, 17.6544, 16.7556,\n",
      "         15.8481, 14.9339, 14.0156, 13.0964, 12.1801, 11.2719, 10.3781,  9.5058,\n",
      "          8.6629,  7.8573,  7.0961,  6.3853,  5.7292,  5.1298,  4.5874,  4.1005,\n",
      "          3.6663,  3.2811,  2.9406,  2.6402,  2.3756,  2.1426,  1.9373,  1.7561,\n",
      "          1.5961,  1.4544,  1.3286,  1.2167],\n",
      "        [39.7774, 39.8579, 39.9126, 39.9483, 39.9706, 39.9839, 39.9915, 39.9957,\n",
      "         39.9979, 39.9990, 39.9996, 39.9998, 39.9999, 40.0000, 40.0000, 40.0000,\n",
      "         40.0000, 40.0000, 40.0000, 40.0000, 40.0000, 40.0000, 40.0000, 40.0000,\n",
      "         40.0000, 40.0000, 40.0000, 39.9999, 39.9998, 39.9996, 39.9990, 39.9979,\n",
      "         39.9957, 39.9915, 39.9839, 39.9706, 39.9483, 39.9126, 39.8579, 39.7774,\n",
      "         39.6638, 39.5095, 39.3077, 39.0528, 38.7408, 38.3697, 37.9396, 37.4521,\n",
      "         36.9102, 36.3177, 35.6791, 34.9991, 34.2820, 33.5322, 32.7538, 31.9501,\n",
      "         31.1245, 30.2798, 29.4183, 28.5422, 27.6535, 26.7535, 25.8438, 24.9254,\n",
      "         23.9995, 23.0669, 22.1284, 21.1846, 20.2362, 19.2837, 18.3277, 17.3689,\n",
      "         16.4081, 15.4466, 14.4861, 13.5290, 12.5787, 11.6400, 10.7186,  9.8214,\n",
      "          8.9559,  8.1298,  7.3499,  6.6220,  5.9502,  5.3365,  4.7810,  4.2820,\n",
      "          3.8367,  3.4412,  3.0912,  2.7820,  2.5092,  2.2686,  2.0563,  1.8685,\n",
      "          1.7024,  1.5549,  1.4238,  1.3069],\n",
      "        [59.7774, 59.8579, 59.9126, 59.9483, 59.9705, 59.9839, 59.9915, 59.9956,\n",
      "         59.9977, 59.9986, 59.9986, 59.9977, 59.9956, 59.9915, 59.9839, 59.9705,\n",
      "         59.9483, 59.9126, 59.8579, 59.7774, 59.6638, 59.5095, 59.3077, 59.0528,\n",
      "         58.7408, 58.3697, 57.9396, 57.4521, 56.9102, 56.3177, 55.6791, 54.9991,\n",
      "         54.2820, 53.5322, 52.7538, 51.9501, 51.1245, 50.2798, 49.4183, 48.5422,\n",
      "         47.6535, 46.7535, 45.8438, 44.9254, 43.9995, 43.0669, 42.1284, 41.1845,\n",
      "         40.2360, 39.2832, 38.3267, 37.3668, 36.4039, 35.4382, 34.4700, 33.4995,\n",
      "         32.5270, 31.5526, 30.5765, 29.5988, 28.6197, 27.6393, 26.6576, 25.6748,\n",
      "         24.6910, 23.7063, 22.7206, 21.7342, 20.7471, 19.7594, 18.7713, 17.7831,\n",
      "         16.7955, 15.8094, 14.8261, 13.8481, 12.8786, 11.9221, 10.9842, 10.0717,\n",
      "          9.1920,  8.3526,  7.5605,  6.8211,  6.1386,  5.5149,  4.9500,  4.4423,\n",
      "          3.9887,  3.5855,  3.2282,  2.9122,  2.6330,  2.3863,  2.1682,  1.9751,\n",
      "          1.8039,  1.6516,  1.5159,  1.3947]])\n"
     ]
    }
   ],
   "source": [
    "import time \n",
    "\n",
    "x = torch.arange(n)\n",
    "\n",
    "W_dist = torch.zeros(dataset.size(0), dataset.size(1))\n",
    "# ite = iterable(dataset, x)\n",
    "\n",
    "st = time.time()\n",
    "for i in range(dataset.size(0)):\n",
    "    \n",
    "    W_dist[i] = fun(x, x, dataset[0], dataset[i])\n",
    "    \n",
    "et = time.time()\n",
    "print(et-st)\n",
    "\n",
    "print(W_dist)\n",
    "\n",
    "# with Pool (processes = 2) as p:\n",
    "#     st = time.time()\n",
    "\n",
    "#     W_dist = p.starmap(fun, ite)\n",
    "\n",
    "#     et = time.time()\n",
    "#     print(et-st)"
   ]
  },
  {
   "cell_type": "code",
   "execution_count": 102,
   "metadata": {},
   "outputs": [
    {
     "data": {
      "text/plain": [
       "[<matplotlib.lines.Line2D at 0x7ff05c428f90>]"
      ]
     },
     "execution_count": 102,
     "metadata": {},
     "output_type": "execute_result"
    },
    {
     "data": {
      "image/png": "[encoded data removed]",
      "text/plain": [
       "<Figure size 640x480 with 1 Axes>"
      ]
     },
     "metadata": {},
     "output_type": "display_data"
    }
   ],
   "source": [
    "import matplotlib.pyplot as plt\n",
    "plt.plot(x, dataset[0][0])\n",
    "plt.plot(x, dataset[0][99])"
   ]
  }
 ],
 "metadata": {
  "kernelspec": {
   "display_name": "pytorch",
   "language": "python",
   "name": "python3"
  },
  "language_info": {
   "codemirror_mode": {
    "name": "ipython",
    "version": 3
   },
   "file_extension": ".py",
   "mimetype": "text/x-python",
   "name": "python",
   "nbconvert_exporter": "python",
   "pygments_lexer": "ipython3",
   "version": "3.11.4"
  },
  "orig_nbformat": 4
 },
 "nbformat": 4,
 "nbformat_minor": 2
}
