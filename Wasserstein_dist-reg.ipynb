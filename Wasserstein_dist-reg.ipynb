{
 "cells": [
  {
   "cell_type": "code",
   "execution_count": 1,
   "metadata": {
    "id": "pAoZXn9f1l1B"
   },
   "outputs": [],
   "source": [
    "import sys\n",
    "sys.path.append('/home/gbortolai/Thesis/')"
   ]
  },
  {
   "cell_type": "code",
   "execution_count": 1,
   "metadata": {
    "id": "-G-qK2XS1mIR"
   },
   "outputs": [],
   "source": [
    "import torch\n",
    "import numpy as np\n",
    "import ot"
   ]
  },
  {
   "cell_type": "code",
   "execution_count": 27,
   "metadata": {
    "colab": {
     "base_uri": "https://localhost:8080/"
    },
    "executionInfo": {
     "elapsed": 13,
     "status": "ok",
     "timestamp": 1679911409550,
     "user": {
      "displayName": "Gabriele Bortolai",
      "userId": "15239002622481471658"
     },
     "user_tz": -120
    },
    "id": "qtYHvqH51nTO",
    "outputId": "11300733-0304-45e6-e3b6-632f7429b4f8"
   },
   "outputs": [
    {
     "name": "stdout",
     "output_type": "stream",
     "text": [
      "Using cuda device\n"
     ]
    }
   ],
   "source": [
    "#GPU\n",
    "# device = \"cuda\" if torch.cuda.is_available() else \"cpu\"\n",
    "device = \"cpu\"\n",
    "print(f\"Using {device} device\")"
   ]
  },
  {
   "cell_type": "code",
   "execution_count": 28,
   "metadata": {},
   "outputs": [],
   "source": [
    "def wasserstein_dist(a,b,metric, d, reg):\n",
    "    \n",
    "    source = a[torch.nonzero(a, as_tuple = False)[:,0], torch.nonzero(a, as_tuple = False)[:,1]].view(torch.nonzero(a, as_tuple = False).size(0))\n",
    "    target = b[torch.nonzero(b, as_tuple = False)[:,0], torch.nonzero(b, as_tuple = False)[:,1]].view(torch.nonzero(b, as_tuple = False).size(0))\n",
    "    \n",
    "    source = source.to(device)\n",
    "    target = target.to(device)\n",
    "    \n",
    "    source = source/torch.sum(source, dtype = torch.double)\n",
    "    target = target/torch.sum(target, dtype = torch.double)\n",
    "    \n",
    "    M = ot.dist(torch.nonzero(a, as_tuple = False).double(), torch.nonzero(b, as_tuple = False).double(), metric = metric).to(device)\n",
    "    M = M/d\n",
    "    \n",
    "    T = ot.sinkhorn(source, target, M, reg)\n",
    "    # T = ot.emd(source, target, M)\n",
    "    W = torch.sum(T*M).to(device)\n",
    "    \n",
    "    W = torch.sqrt(W)\n",
    "    \n",
    "    return W"
   ]
  },
  {
   "cell_type": "code",
   "execution_count": 29,
   "metadata": {
    "id": "YvVlokaQ1Tfe"
   },
   "outputs": [],
   "source": [
    "data, targets = torch.load('data/MNIST/train_s=3000', map_location = device)\n",
    "d = 2*28*28"
   ]
  },
  {
   "cell_type": "code",
   "execution_count": 42,
   "metadata": {
    "colab": {
     "base_uri": "https://localhost:8080/"
    },
    "executionInfo": {
     "elapsed": 2248470,
     "status": "ok",
     "timestamp": 1679916152421,
     "user": {
      "displayName": "Gabriele Bortolai",
      "userId": "15239002622481471658"
     },
     "user_tz": -120
    },
    "id": "wm_ikfLX16J9",
    "outputId": "0b077717-a671-422c-9e4a-8f8b3bfaefa5"
   },
   "outputs": [
    {
     "name": "stdout",
     "output_type": "stream",
     "text": [
      "Row n: 0.0\n",
      "Row n: 10.0\n",
      "Row n: 20.0\n",
      "Row n: 30.0\n",
      "Row n: 40.0\n",
      "Row n: 50.0\n",
      "Row n: 60.0\n",
      "Row n: 70.0\n",
      "Row n: 80.0\n",
      "Row n: 90.0\n",
      "0.15265130996704102\n"
     ]
    }
   ],
   "source": [
    "import time\n",
    "#Wasserstein distance \n",
    "\n",
    "metric='sqeuclidean'\n",
    "reg = 1e-1\n",
    "\n",
    "# size = data.size(0)\n",
    "size = data[:10].size(0)\n",
    "\n",
    "Wasserstein_dist = torch.zeros(size, size, dtype = torch.double).to(device)\n",
    "st = time.time()\n",
    "for i in range (size):\n",
    "    for j in filter(lambda h: h>i, range (size)):\n",
    "        Wasserstein_dist[i][j] = wasserstein_dist(data[i], data[j], metric, d, reg).to(device)\n",
    "    print('Row n:',(i/size)*100)\n",
    "    \n",
    "et = time.time()\n",
    "print(et-st)"
   ]
  },
  {
   "cell_type": "code",
   "execution_count": null,
   "metadata": {
    "id": "RblJqJ3z6FlT"
   },
   "outputs": [],
   "source": [
    "torch.save([Wasserstein_dist, targets],'data/MNIST/Wasserstein_dist_train_s='+str(size))"
   ]
  },
  {
   "cell_type": "markdown",
   "metadata": {
    "id": "u1jduvc_1Tfi"
   },
   "source": [
    "funzione per estrarre valori: scipy.sqrform"
   ]
  }
 ],
 "metadata": {
  "accelerator": "GPU",
  "colab": {
   "provenance": []
  },
  "gpuClass": "standard",
  "kernelspec": {
   "display_name": "Python [conda env:gbortolai_env_PyTorch-GPU]",
   "language": "python",
   "name": "conda-env-gbortolai_env_PyTorch-GPU-py"
  },
  "language_info": {
   "codemirror_mode": {
    "name": "ipython",
    "version": 3
   },
   "file_extension": ".py",
   "mimetype": "text/x-python",
   "name": "python",
   "nbconvert_exporter": "python",
   "pygments_lexer": "ipython3",
   "version": "3.10.10"
  }
 },
 "nbformat": 4,
 "nbformat_minor": 4
}
