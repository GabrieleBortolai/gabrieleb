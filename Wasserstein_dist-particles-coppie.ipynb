{
 "cells": [
  {
   "cell_type": "code",
   "execution_count": 1,
   "metadata": {
    "id": "pAoZXn9f1l1B"
   },
   "outputs": [],
   "source": [
    "import sys\n",
    "sys.path.append('/home/gbortolai/Thesis/')"
   ]
  },
  {
   "cell_type": "code",
   "execution_count": 1,
   "metadata": {
    "id": "-G-qK2XS1mIR"
   },
   "outputs": [],
   "source": [
    "import torch\n",
    "import numpy as np\n",
    "import ot"
   ]
  },
  {
   "cell_type": "code",
   "execution_count": 2,
   "metadata": {
    "colab": {
     "base_uri": "https://localhost:8080/"
    },
    "executionInfo": {
     "elapsed": 13,
     "status": "ok",
     "timestamp": 1679911409550,
     "user": {
      "displayName": "Gabriele Bortolai",
      "userId": "15239002622481471658"
     },
     "user_tz": -120
    },
    "id": "qtYHvqH51nTO",
    "outputId": "11300733-0304-45e6-e3b6-632f7429b4f8"
   },
   "outputs": [
    {
     "name": "stdout",
     "output_type": "stream",
     "text": [
      "Using cpu device\n"
     ]
    }
   ],
   "source": [
    "#GPU\n",
    "# device = \"cuda\" if torch.cuda.is_available() else \"cpu\"\n",
    "device = 'cpu'\n",
    "print(f\"Using {device} device\")"
   ]
  },
  {
   "cell_type": "code",
   "execution_count": 3,
   "metadata": {},
   "outputs": [],
   "source": [
    "def wasserstein_dist(data_source, data_target):#1-Wasserstein\n",
    "    \n",
    "    source = data_source[:,0]/torch.sum(data_source[:,0], dtype = torch.double)#.to(device)\n",
    "    target = data_target[:,0]/torch.sum(data_target[:,0], dtype = torch.double)#.to(device)\n",
    "    \n",
    "    source = source.to(device)\n",
    "    target = target.to(device)\n",
    "    \n",
    "    M = ot.dist(torch.stack([data_source[:,1], data_source[:,2]], dim = -1), torch.stack([data_target[:,1], data_target[:,2]], dim = -1), metric = 'euclidean').to(device)\n",
    "    \n",
    "    T = ot.emd(source, target, M).to(device)\n",
    "    W = torch.sum(T*M).to(device)\n",
    "    \n",
    "    return W"
   ]
  },
  {
   "cell_type": "code",
   "execution_count": 8,
   "metadata": {},
   "outputs": [],
   "source": [
    "def datasetmaker(data, val_max):\n",
    "    return torch.stack([data[:int(val_max/2)], data[int(val_max/2):val_max]])"
   ]
  },
  {
   "cell_type": "code",
   "execution_count": 9,
   "metadata": {
    "id": "YvVlokaQ1Tfe"
   },
   "outputs": [],
   "source": [
    "jets, targets = torch.load('data/Jets/dataset_train-coppie', map_location = device)\n",
    "jets = jets.to(torch.double)\n",
    "jets = datasetmaker(jets, jets.size(0))"
   ]
  },
  {
   "cell_type": "code",
   "execution_count": 10,
   "metadata": {},
   "outputs": [
    {
     "name": "stdout",
     "output_type": "stream",
     "text": [
      "torch.Size([2, 100000, 16, 3])\n"
     ]
    }
   ],
   "source": [
    "print(jets.size())"
   ]
  },
  {
   "cell_type": "code",
   "execution_count": 12,
   "metadata": {
    "colab": {
     "base_uri": "https://localhost:8080/"
    },
    "executionInfo": {
     "elapsed": 2248470,
     "status": "ok",
     "timestamp": 1679916152421,
     "user": {
      "displayName": "Gabriele Bortolai",
      "userId": "15239002622481471658"
     },
     "user_tz": -120
    },
    "id": "wm_ikfLX16J9",
    "outputId": "0b077717-a671-422c-9e4a-8f8b3bfaefa5"
   },
   "outputs": [
    {
     "name": "stdout",
     "output_type": "stream",
     "text": [
      "riga n: 0.0\n",
      "riga n: 10.0\n",
      "riga n: 20.0\n",
      "riga n: 30.0\n",
      "riga n: 40.0\n",
      "riga n: 50.0\n",
      "riga n: 60.0\n",
      "riga n: 70.0\n",
      "riga n: 80.0\n",
      "riga n: 90.0\n"
     ]
    }
   ],
   "source": [
    "#Wasserstein distance \n",
    "\n",
    "size = jets.size(1)\n",
    "\n",
    "Wasserstein_dist=torch.zeros(size, dtype = torch.double).to(device)\n",
    "\n",
    "for i in range (size):\n",
    "    Wasserstein_dist[i] = wasserstein_dist(jets[0][i], jets[1][i]).to(device)\n",
    "    print('riga n:',(i/size)*100)\n",
    "#Wasserstein_dist = Wasserstein_dist/torch.max(Wasserstein_dist)"
   ]
  },
  {
   "cell_type": "code",
   "execution_count": 38,
   "metadata": {
    "id": "RblJqJ3z6FlT"
   },
   "outputs": [],
   "source": [
    "torch.save([Wasserstein_dist, targets],'data/Jets/Wasserstein_dist_train-coppie_s='+str(size))"
   ]
  }
 ],
 "metadata": {
  "accelerator": "GPU",
  "colab": {
   "provenance": []
  },
  "gpuClass": "standard",
  "kernelspec": {
   "display_name": "Python [conda env:gbortolai_env_PyTorch-GPU]",
   "language": "python",
   "name": "conda-env-gbortolai_env_PyTorch-GPU-py"
  },
  "language_info": {
   "codemirror_mode": {
    "name": "ipython",
    "version": 3
   },
   "file_extension": ".py",
   "mimetype": "text/x-python",
   "name": "python",
   "nbconvert_exporter": "python",
   "pygments_lexer": "ipython3",
   "version": "3.10.10"
  }
 },
 "nbformat": 4,
 "nbformat_minor": 4
}
