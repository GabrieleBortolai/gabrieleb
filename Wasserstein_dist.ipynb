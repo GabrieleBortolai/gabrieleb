{
 "cells": [
  {
   "cell_type": "code",
   "execution_count": 2,
   "metadata": {
    "id": "-G-qK2XS1mIR"
   },
   "outputs": [],
   "source": [
    "import torch\n",
    "import numpy as np\n",
    "import ot\n",
    "from telegram_bot import send_message"
   ]
  },
  {
   "cell_type": "code",
   "execution_count": 3,
   "metadata": {
    "colab": {
     "base_uri": "https://localhost:8080/"
    },
    "executionInfo": {
     "elapsed": 13,
     "status": "ok",
     "timestamp": 1679911409550,
     "user": {
      "displayName": "Gabriele Bortolai",
      "userId": "15239002622481471658"
     },
     "user_tz": -120
    },
    "id": "qtYHvqH51nTO",
    "outputId": "11300733-0304-45e6-e3b6-632f7429b4f8"
   },
   "outputs": [
    {
     "name": "stdout",
     "output_type": "stream",
     "text": [
      "Using cpu device\n"
     ]
    }
   ],
   "source": [
    "#GPU\n",
    "# device = \"cuda\" if torch.cuda.is_available() else \"cpu\"\n",
    "device = \"cpu\"\n",
    "print(f\"Using {device} device\")"
   ]
  },
  {
   "cell_type": "code",
   "execution_count": 5,
   "metadata": {},
   "outputs": [],
   "source": [
    "def wasserstein_dist(a,b,metric, d):\n",
    "    \n",
    "    source = a[torch.nonzero(a, as_tuple = False)[:,0], torch.nonzero(a, as_tuple = False)[:,1]].view(torch.nonzero(a, as_tuple = False).size(0)).double()\n",
    "    target = b[torch.nonzero(b, as_tuple = False)[:,0], torch.nonzero(b, as_tuple = False)[:,1]].view(torch.nonzero(b, as_tuple = False).size(0)).double()\n",
    "    \n",
    "    source = source.to(device)\n",
    "    target = target.to(device)\n",
    "    \n",
    "    source = source/torch.sum(source, dtype = torch.double)\n",
    "    target = target/torch.sum(target, dtype = torch.double)\n",
    "    \n",
    "    M = ot.dist(torch.nonzero(a, as_tuple = False).float(), torch.nonzero(b, as_tuple = False).float(), metric = metric).to(device)\n",
    "    M = M/d\n",
    "    \n",
    "    T = ot.emd(source, target, M).to(device)\n",
    "    W = torch.sum(T*M).to(device)\n",
    "    \n",
    "    W = torch.sqrt(W)\n",
    "    \n",
    "    return W"
   ]
  },
  {
   "cell_type": "code",
   "execution_count": 6,
   "metadata": {
    "id": "YvVlokaQ1Tfe"
   },
   "outputs": [],
   "source": [
    "data, targets = torch.load('/data/gabrieleb/data/MNIST/validation_eq_s=1000')\n",
    "data = data.to(device)\n",
    "d = 2*28*28"
   ]
  },
  {
   "cell_type": "code",
   "execution_count": 7,
   "metadata": {
    "colab": {
     "base_uri": "https://localhost:8080/"
    },
    "executionInfo": {
     "elapsed": 2248470,
     "status": "ok",
     "timestamp": 1679916152421,
     "user": {
      "displayName": "Gabriele Bortolai",
      "userId": "15239002622481471658"
     },
     "user_tz": -120
    },
    "id": "wm_ikfLX16J9",
    "outputId": "0b077717-a671-422c-9e4a-8f8b3bfaefa5"
   },
   "outputs": [
    {
     "name": "stdout",
     "output_type": "stream",
     "text": [
      "Rows done: 0.0 %\n",
      "Rows done: 0.5 %\n"
     ]
    },
    {
     "ename": "CancelledError",
     "evalue": "",
     "output_type": "error",
     "traceback": [
      "\u001b[0;31m---------------------------------------------------------------------------\u001b[0m",
      "\u001b[0;31mCancelledError\u001b[0m                            Traceback (most recent call last)",
      "Cell \u001b[0;32mIn[7], line 14\u001b[0m\n\u001b[1;32m     12\u001b[0m \u001b[39mif\u001b[39;00m i\u001b[39m%\u001b[39m\u001b[39m5\u001b[39m \u001b[39m==\u001b[39m \u001b[39m0\u001b[39m:\n\u001b[1;32m     13\u001b[0m     \u001b[39mprint\u001b[39m(\u001b[39mf\u001b[39m\u001b[39m'\u001b[39m\u001b[39mRows done: \u001b[39m\u001b[39m{\u001b[39;00m(i\u001b[39m/\u001b[39msize)\u001b[39m*\u001b[39m\u001b[39m100\u001b[39m\u001b[39m}\u001b[39;00m\u001b[39m %\u001b[39m\u001b[39m'\u001b[39m)\n\u001b[0;32m---> 14\u001b[0m \u001b[39mawait\u001b[39;00m send_message(\u001b[39mf\u001b[39m\u001b[39m'\u001b[39m\u001b[39mRows done: \u001b[39m\u001b[39m{\u001b[39;00m(i\u001b[39m/\u001b[39msize)\u001b[39m*\u001b[39m\u001b[39m100\u001b[39m\u001b[39m}\u001b[39;00m\u001b[39m %\u001b[39m\u001b[39m'\u001b[39m)\n",
      "File \u001b[0;32m~/telegram_bot.py:16\u001b[0m, in \u001b[0;36msend_message\u001b[0;34m(message)\u001b[0m\n\u001b[1;32m     14\u001b[0m \u001b[39masync\u001b[39;00m \u001b[39mdef\u001b[39;00m \u001b[39msend_message\u001b[39m(message):\n\u001b[1;32m     15\u001b[0m     chat_id \u001b[39m=\u001b[39m \u001b[39m'\u001b[39m\u001b[39m628949597\u001b[39m\u001b[39m'\u001b[39m\n\u001b[0;32m---> 16\u001b[0m     \u001b[39mawait\u001b[39;00m bot\u001b[39m.\u001b[39msend_message(chat_id\u001b[39m=\u001b[39mchat_id, text\u001b[39m=\u001b[39mmessage)\n",
      "File \u001b[0;32m/data/gabrieleb/miniconda/envs/pytorch/lib/python3.11/site-packages/telegram/_bot.py:388\u001b[0m, in \u001b[0;36mBot._log.<locals>.decorator\u001b[0;34m(self, *args, **kwargs)\u001b[0m\n\u001b[1;32m    384\u001b[0m \u001b[39m@functools\u001b[39m\u001b[39m.\u001b[39mwraps(func)\n\u001b[1;32m    385\u001b[0m \u001b[39masync\u001b[39;00m \u001b[39mdef\u001b[39;00m \u001b[39mdecorator\u001b[39m(\u001b[39mself\u001b[39m: \u001b[39m\"\u001b[39m\u001b[39mBot\u001b[39m\u001b[39m\"\u001b[39m, \u001b[39m*\u001b[39margs: Any, \u001b[39m*\u001b[39m\u001b[39m*\u001b[39mkwargs: Any) \u001b[39m-\u001b[39m\u001b[39m>\u001b[39m Any:\n\u001b[1;32m    386\u001b[0m     \u001b[39m# pylint: disable=protected-access\u001b[39;00m\n\u001b[1;32m    387\u001b[0m     \u001b[39mself\u001b[39m\u001b[39m.\u001b[39m_LOGGER\u001b[39m.\u001b[39mdebug(\u001b[39m\"\u001b[39m\u001b[39mEntering: \u001b[39m\u001b[39m%s\u001b[39;00m\u001b[39m\"\u001b[39m, func\u001b[39m.\u001b[39m\u001b[39m__name__\u001b[39m)\n\u001b[0;32m--> 388\u001b[0m     result \u001b[39m=\u001b[39m \u001b[39mawait\u001b[39;00m func(\u001b[39mself\u001b[39m, \u001b[39m*\u001b[39margs, \u001b[39m*\u001b[39m\u001b[39m*\u001b[39mkwargs)  \u001b[39m# skipcq: PYL-E1102\u001b[39;00m\n\u001b[1;32m    389\u001b[0m     \u001b[39mself\u001b[39m\u001b[39m.\u001b[39m_LOGGER\u001b[39m.\u001b[39mdebug(result)\n\u001b[1;32m    390\u001b[0m     \u001b[39mself\u001b[39m\u001b[39m.\u001b[39m_LOGGER\u001b[39m.\u001b[39mdebug(\u001b[39m\"\u001b[39m\u001b[39mExiting: \u001b[39m\u001b[39m%s\u001b[39;00m\u001b[39m\"\u001b[39m, func\u001b[39m.\u001b[39m\u001b[39m__name__\u001b[39m)\n",
      "File \u001b[0;32m/data/gabrieleb/miniconda/envs/pytorch/lib/python3.11/site-packages/telegram/_bot.py:814\u001b[0m, in \u001b[0;36mBot.send_message\u001b[0;34m(self, chat_id, text, parse_mode, entities, disable_web_page_preview, disable_notification, protect_content, reply_to_message_id, allow_sending_without_reply, reply_markup, message_thread_id, read_timeout, write_timeout, connect_timeout, pool_timeout, api_kwargs)\u001b[0m\n\u001b[1;32m    775\u001b[0m \u001b[39m\u001b[39m\u001b[39m\"\"\"Use this method to send text messages.\u001b[39;00m\n\u001b[1;32m    776\u001b[0m \n\u001b[1;32m    777\u001b[0m \u001b[39mArgs:\u001b[39;00m\n\u001b[0;32m   (...)\u001b[0m\n\u001b[1;32m    810\u001b[0m \n\u001b[1;32m    811\u001b[0m \u001b[39m\"\"\"\u001b[39;00m\n\u001b[1;32m    812\u001b[0m data: JSONDict \u001b[39m=\u001b[39m {\u001b[39m\"\u001b[39m\u001b[39mchat_id\u001b[39m\u001b[39m\"\u001b[39m: chat_id, \u001b[39m\"\u001b[39m\u001b[39mtext\u001b[39m\u001b[39m\"\u001b[39m: text, \u001b[39m\"\u001b[39m\u001b[39mentities\u001b[39m\u001b[39m\"\u001b[39m: entities}\n\u001b[0;32m--> 814\u001b[0m \u001b[39mreturn\u001b[39;00m \u001b[39mawait\u001b[39;00m \u001b[39mself\u001b[39m\u001b[39m.\u001b[39m_send_message(\n\u001b[1;32m    815\u001b[0m     \u001b[39m\"\u001b[39m\u001b[39msendMessage\u001b[39m\u001b[39m\"\u001b[39m,\n\u001b[1;32m    816\u001b[0m     data,\n\u001b[1;32m    817\u001b[0m     reply_to_message_id\u001b[39m=\u001b[39mreply_to_message_id,\n\u001b[1;32m    818\u001b[0m     disable_notification\u001b[39m=\u001b[39mdisable_notification,\n\u001b[1;32m    819\u001b[0m     reply_markup\u001b[39m=\u001b[39mreply_markup,\n\u001b[1;32m    820\u001b[0m     allow_sending_without_reply\u001b[39m=\u001b[39mallow_sending_without_reply,\n\u001b[1;32m    821\u001b[0m     protect_content\u001b[39m=\u001b[39mprotect_content,\n\u001b[1;32m    822\u001b[0m     message_thread_id\u001b[39m=\u001b[39mmessage_thread_id,\n\u001b[1;32m    823\u001b[0m     parse_mode\u001b[39m=\u001b[39mparse_mode,\n\u001b[1;32m    824\u001b[0m     disable_web_page_preview\u001b[39m=\u001b[39mdisable_web_page_preview,\n\u001b[1;32m    825\u001b[0m     read_timeout\u001b[39m=\u001b[39mread_timeout,\n\u001b[1;32m    826\u001b[0m     write_timeout\u001b[39m=\u001b[39mwrite_timeout,\n\u001b[1;32m    827\u001b[0m     connect_timeout\u001b[39m=\u001b[39mconnect_timeout,\n\u001b[1;32m    828\u001b[0m     pool_timeout\u001b[39m=\u001b[39mpool_timeout,\n\u001b[1;32m    829\u001b[0m     api_kwargs\u001b[39m=\u001b[39mapi_kwargs,\n\u001b[1;32m    830\u001b[0m )\n",
      "File \u001b[0;32m/data/gabrieleb/miniconda/envs/pytorch/lib/python3.11/site-packages/telegram/_bot.py:566\u001b[0m, in \u001b[0;36mBot._send_message\u001b[0;34m(self, endpoint, data, reply_to_message_id, disable_notification, reply_markup, allow_sending_without_reply, protect_content, message_thread_id, caption, parse_mode, caption_entities, disable_web_page_preview, read_timeout, write_timeout, connect_timeout, pool_timeout, api_kwargs)\u001b[0m\n\u001b[1;32m    563\u001b[0m \u001b[39mif\u001b[39;00m caption_entities \u001b[39mis\u001b[39;00m \u001b[39mnot\u001b[39;00m \u001b[39mNone\u001b[39;00m:\n\u001b[1;32m    564\u001b[0m     data[\u001b[39m\"\u001b[39m\u001b[39mcaption_entities\u001b[39m\u001b[39m\"\u001b[39m] \u001b[39m=\u001b[39m caption_entities\n\u001b[0;32m--> 566\u001b[0m result \u001b[39m=\u001b[39m \u001b[39mawait\u001b[39;00m \u001b[39mself\u001b[39m\u001b[39m.\u001b[39m_post(\n\u001b[1;32m    567\u001b[0m     endpoint,\n\u001b[1;32m    568\u001b[0m     data,\n\u001b[1;32m    569\u001b[0m     read_timeout\u001b[39m=\u001b[39mread_timeout,\n\u001b[1;32m    570\u001b[0m     write_timeout\u001b[39m=\u001b[39mwrite_timeout,\n\u001b[1;32m    571\u001b[0m     connect_timeout\u001b[39m=\u001b[39mconnect_timeout,\n\u001b[1;32m    572\u001b[0m     pool_timeout\u001b[39m=\u001b[39mpool_timeout,\n\u001b[1;32m    573\u001b[0m     api_kwargs\u001b[39m=\u001b[39mapi_kwargs,\n\u001b[1;32m    574\u001b[0m )\n\u001b[1;32m    576\u001b[0m \u001b[39mif\u001b[39;00m result \u001b[39mis\u001b[39;00m \u001b[39mTrue\u001b[39;00m:\n\u001b[1;32m    577\u001b[0m     \u001b[39mreturn\u001b[39;00m result\n",
      "File \u001b[0;32m/data/gabrieleb/miniconda/envs/pytorch/lib/python3.11/site-packages/telegram/_bot.py:476\u001b[0m, in \u001b[0;36mBot._post\u001b[0;34m(self, endpoint, data, read_timeout, write_timeout, connect_timeout, pool_timeout, api_kwargs)\u001b[0m\n\u001b[1;32m    473\u001b[0m \u001b[39m# Drop any None values because Telegram doesn't handle them well\u001b[39;00m\n\u001b[1;32m    474\u001b[0m data \u001b[39m=\u001b[39m {key: value \u001b[39mfor\u001b[39;00m key, value \u001b[39min\u001b[39;00m data\u001b[39m.\u001b[39mitems() \u001b[39mif\u001b[39;00m value \u001b[39mis\u001b[39;00m \u001b[39mnot\u001b[39;00m \u001b[39mNone\u001b[39;00m}\n\u001b[0;32m--> 476\u001b[0m \u001b[39mreturn\u001b[39;00m \u001b[39mawait\u001b[39;00m \u001b[39mself\u001b[39m\u001b[39m.\u001b[39m_do_post(\n\u001b[1;32m    477\u001b[0m     endpoint\u001b[39m=\u001b[39mendpoint,\n\u001b[1;32m    478\u001b[0m     data\u001b[39m=\u001b[39mdata,\n\u001b[1;32m    479\u001b[0m     read_timeout\u001b[39m=\u001b[39mread_timeout,\n\u001b[1;32m    480\u001b[0m     write_timeout\u001b[39m=\u001b[39mwrite_timeout,\n\u001b[1;32m    481\u001b[0m     connect_timeout\u001b[39m=\u001b[39mconnect_timeout,\n\u001b[1;32m    482\u001b[0m     pool_timeout\u001b[39m=\u001b[39mpool_timeout,\n\u001b[1;32m    483\u001b[0m )\n",
      "File \u001b[0;32m/data/gabrieleb/miniconda/envs/pytorch/lib/python3.11/site-packages/telegram/_bot.py:504\u001b[0m, in \u001b[0;36mBot._do_post\u001b[0;34m(self, endpoint, data, read_timeout, write_timeout, connect_timeout, pool_timeout)\u001b[0m\n\u001b[1;32m    498\u001b[0m request_data \u001b[39m=\u001b[39m RequestData(\n\u001b[1;32m    499\u001b[0m     parameters\u001b[39m=\u001b[39m[RequestParameter\u001b[39m.\u001b[39mfrom_input(key, value) \u001b[39mfor\u001b[39;00m key, value \u001b[39min\u001b[39;00m data\u001b[39m.\u001b[39mitems()],\n\u001b[1;32m    500\u001b[0m )\n\u001b[1;32m    502\u001b[0m request \u001b[39m=\u001b[39m \u001b[39mself\u001b[39m\u001b[39m.\u001b[39m_request[\u001b[39m0\u001b[39m] \u001b[39mif\u001b[39;00m endpoint \u001b[39m==\u001b[39m \u001b[39m\"\u001b[39m\u001b[39mgetUpdates\u001b[39m\u001b[39m\"\u001b[39m \u001b[39melse\u001b[39;00m \u001b[39mself\u001b[39m\u001b[39m.\u001b[39m_request[\u001b[39m1\u001b[39m]\n\u001b[0;32m--> 504\u001b[0m \u001b[39mreturn\u001b[39;00m \u001b[39mawait\u001b[39;00m request\u001b[39m.\u001b[39mpost(\n\u001b[1;32m    505\u001b[0m     url\u001b[39m=\u001b[39m\u001b[39mf\u001b[39m\u001b[39m\"\u001b[39m\u001b[39m{\u001b[39;00m\u001b[39mself\u001b[39m\u001b[39m.\u001b[39m_base_url\u001b[39m}\u001b[39;00m\u001b[39m/\u001b[39m\u001b[39m{\u001b[39;00mendpoint\u001b[39m}\u001b[39;00m\u001b[39m\"\u001b[39m,\n\u001b[1;32m    506\u001b[0m     request_data\u001b[39m=\u001b[39mrequest_data,\n\u001b[1;32m    507\u001b[0m     read_timeout\u001b[39m=\u001b[39mread_timeout,\n\u001b[1;32m    508\u001b[0m     write_timeout\u001b[39m=\u001b[39mwrite_timeout,\n\u001b[1;32m    509\u001b[0m     connect_timeout\u001b[39m=\u001b[39mconnect_timeout,\n\u001b[1;32m    510\u001b[0m     pool_timeout\u001b[39m=\u001b[39mpool_timeout,\n\u001b[1;32m    511\u001b[0m )\n",
      "File \u001b[0;32m/data/gabrieleb/miniconda/envs/pytorch/lib/python3.11/site-packages/telegram/request/_baserequest.py:168\u001b[0m, in \u001b[0;36mBaseRequest.post\u001b[0;34m(self, url, request_data, read_timeout, write_timeout, connect_timeout, pool_timeout)\u001b[0m\n\u001b[1;32m    127\u001b[0m \u001b[39m@final\u001b[39m\n\u001b[1;32m    128\u001b[0m \u001b[39masync\u001b[39;00m \u001b[39mdef\u001b[39;00m \u001b[39mpost\u001b[39m(\n\u001b[1;32m    129\u001b[0m     \u001b[39mself\u001b[39m,\n\u001b[0;32m   (...)\u001b[0m\n\u001b[1;32m    135\u001b[0m     pool_timeout: ODVInput[\u001b[39mfloat\u001b[39m] \u001b[39m=\u001b[39m DEFAULT_NONE,\n\u001b[1;32m    136\u001b[0m ) \u001b[39m-\u001b[39m\u001b[39m>\u001b[39m Union[JSONDict, List[JSONDict], \u001b[39mbool\u001b[39m]:\n\u001b[1;32m    137\u001b[0m \u001b[39m    \u001b[39m\u001b[39m\"\"\"Makes a request to the Bot API handles the return code and parses the answer.\u001b[39;00m\n\u001b[1;32m    138\u001b[0m \n\u001b[1;32m    139\u001b[0m \u001b[39m    Warning:\u001b[39;00m\n\u001b[0;32m   (...)\u001b[0m\n\u001b[1;32m    166\u001b[0m \n\u001b[1;32m    167\u001b[0m \u001b[39m    \"\"\"\u001b[39;00m\n\u001b[0;32m--> 168\u001b[0m     result \u001b[39m=\u001b[39m \u001b[39mawait\u001b[39;00m \u001b[39mself\u001b[39m\u001b[39m.\u001b[39m_request_wrapper(\n\u001b[1;32m    169\u001b[0m         url\u001b[39m=\u001b[39murl,\n\u001b[1;32m    170\u001b[0m         method\u001b[39m=\u001b[39m\u001b[39m\"\u001b[39m\u001b[39mPOST\u001b[39m\u001b[39m\"\u001b[39m,\n\u001b[1;32m    171\u001b[0m         request_data\u001b[39m=\u001b[39mrequest_data,\n\u001b[1;32m    172\u001b[0m         read_timeout\u001b[39m=\u001b[39mread_timeout,\n\u001b[1;32m    173\u001b[0m         write_timeout\u001b[39m=\u001b[39mwrite_timeout,\n\u001b[1;32m    174\u001b[0m         connect_timeout\u001b[39m=\u001b[39mconnect_timeout,\n\u001b[1;32m    175\u001b[0m         pool_timeout\u001b[39m=\u001b[39mpool_timeout,\n\u001b[1;32m    176\u001b[0m     )\n\u001b[1;32m    177\u001b[0m     json_data \u001b[39m=\u001b[39m \u001b[39mself\u001b[39m\u001b[39m.\u001b[39mparse_json_payload(result)\n\u001b[1;32m    178\u001b[0m     \u001b[39m# For successful requests, the results are in the 'result' entry\u001b[39;00m\n\u001b[1;32m    179\u001b[0m     \u001b[39m# see https://core.telegram.org/bots/api#making-requests\u001b[39;00m\n",
      "File \u001b[0;32m/data/gabrieleb/miniconda/envs/pytorch/lib/python3.11/site-packages/telegram/request/_baserequest.py:278\u001b[0m, in \u001b[0;36mBaseRequest._request_wrapper\u001b[0;34m(self, url, method, request_data, read_timeout, write_timeout, connect_timeout, pool_timeout)\u001b[0m\n\u001b[1;32m    274\u001b[0m \u001b[39m# TGs response also has the fields 'ok' and 'error_code'.\u001b[39;00m\n\u001b[1;32m    275\u001b[0m \u001b[39m# However, we rather rely on the HTTP status code for now.\u001b[39;00m\n\u001b[1;32m    277\u001b[0m \u001b[39mtry\u001b[39;00m:\n\u001b[0;32m--> 278\u001b[0m     code, payload \u001b[39m=\u001b[39m \u001b[39mawait\u001b[39;00m \u001b[39mself\u001b[39m\u001b[39m.\u001b[39mdo_request(\n\u001b[1;32m    279\u001b[0m         url\u001b[39m=\u001b[39murl,\n\u001b[1;32m    280\u001b[0m         method\u001b[39m=\u001b[39mmethod,\n\u001b[1;32m    281\u001b[0m         request_data\u001b[39m=\u001b[39mrequest_data,\n\u001b[1;32m    282\u001b[0m         read_timeout\u001b[39m=\u001b[39mread_timeout,\n\u001b[1;32m    283\u001b[0m         write_timeout\u001b[39m=\u001b[39mwrite_timeout,\n\u001b[1;32m    284\u001b[0m         connect_timeout\u001b[39m=\u001b[39mconnect_timeout,\n\u001b[1;32m    285\u001b[0m         pool_timeout\u001b[39m=\u001b[39mpool_timeout,\n\u001b[1;32m    286\u001b[0m     )\n\u001b[1;32m    287\u001b[0m \u001b[39mexcept\u001b[39;00m TelegramError \u001b[39mas\u001b[39;00m exc:\n\u001b[1;32m    288\u001b[0m     \u001b[39mraise\u001b[39;00m exc\n",
      "File \u001b[0;32m/data/gabrieleb/miniconda/envs/pytorch/lib/python3.11/site-packages/telegram/request/_httpxrequest.py:216\u001b[0m, in \u001b[0;36mHTTPXRequest.do_request\u001b[0;34m(self, url, method, request_data, read_timeout, write_timeout, connect_timeout, pool_timeout)\u001b[0m\n\u001b[1;32m    213\u001b[0m data \u001b[39m=\u001b[39m request_data\u001b[39m.\u001b[39mjson_parameters \u001b[39mif\u001b[39;00m request_data \u001b[39melse\u001b[39;00m \u001b[39mNone\u001b[39;00m\n\u001b[1;32m    215\u001b[0m \u001b[39mtry\u001b[39;00m:\n\u001b[0;32m--> 216\u001b[0m     res \u001b[39m=\u001b[39m \u001b[39mawait\u001b[39;00m \u001b[39mself\u001b[39m\u001b[39m.\u001b[39m_client\u001b[39m.\u001b[39mrequest(\n\u001b[1;32m    217\u001b[0m         method\u001b[39m=\u001b[39mmethod,\n\u001b[1;32m    218\u001b[0m         url\u001b[39m=\u001b[39murl,\n\u001b[1;32m    219\u001b[0m         headers\u001b[39m=\u001b[39m{\u001b[39m\"\u001b[39m\u001b[39mUser-Agent\u001b[39m\u001b[39m\"\u001b[39m: \u001b[39mself\u001b[39m\u001b[39m.\u001b[39mUSER_AGENT},\n\u001b[1;32m    220\u001b[0m         timeout\u001b[39m=\u001b[39mtimeout,\n\u001b[1;32m    221\u001b[0m         files\u001b[39m=\u001b[39mfiles,\n\u001b[1;32m    222\u001b[0m         data\u001b[39m=\u001b[39mdata,\n\u001b[1;32m    223\u001b[0m     )\n\u001b[1;32m    224\u001b[0m \u001b[39mexcept\u001b[39;00m httpx\u001b[39m.\u001b[39mTimeoutException \u001b[39mas\u001b[39;00m err:\n\u001b[1;32m    225\u001b[0m     \u001b[39mif\u001b[39;00m \u001b[39misinstance\u001b[39m(err, httpx\u001b[39m.\u001b[39mPoolTimeout):\n",
      "File \u001b[0;32m/data/gabrieleb/miniconda/envs/pytorch/lib/python3.11/site-packages/httpx/_client.py:1530\u001b[0m, in \u001b[0;36mAsyncClient.request\u001b[0;34m(self, method, url, content, data, files, json, params, headers, cookies, auth, follow_redirects, timeout, extensions)\u001b[0m\n\u001b[1;32m   1501\u001b[0m \u001b[39m\u001b[39m\u001b[39m\"\"\"\u001b[39;00m\n\u001b[1;32m   1502\u001b[0m \u001b[39mBuild and send a request.\u001b[39;00m\n\u001b[1;32m   1503\u001b[0m \n\u001b[0;32m   (...)\u001b[0m\n\u001b[1;32m   1515\u001b[0m \u001b[39m[0]: /advanced/#merging-of-configuration\u001b[39;00m\n\u001b[1;32m   1516\u001b[0m \u001b[39m\"\"\"\u001b[39;00m\n\u001b[1;32m   1517\u001b[0m request \u001b[39m=\u001b[39m \u001b[39mself\u001b[39m\u001b[39m.\u001b[39mbuild_request(\n\u001b[1;32m   1518\u001b[0m     method\u001b[39m=\u001b[39mmethod,\n\u001b[1;32m   1519\u001b[0m     url\u001b[39m=\u001b[39murl,\n\u001b[0;32m   (...)\u001b[0m\n\u001b[1;32m   1528\u001b[0m     extensions\u001b[39m=\u001b[39mextensions,\n\u001b[1;32m   1529\u001b[0m )\n\u001b[0;32m-> 1530\u001b[0m \u001b[39mreturn\u001b[39;00m \u001b[39mawait\u001b[39;00m \u001b[39mself\u001b[39m\u001b[39m.\u001b[39msend(request, auth\u001b[39m=\u001b[39mauth, follow_redirects\u001b[39m=\u001b[39mfollow_redirects)\n",
      "File \u001b[0;32m/data/gabrieleb/miniconda/envs/pytorch/lib/python3.11/site-packages/httpx/_client.py:1617\u001b[0m, in \u001b[0;36mAsyncClient.send\u001b[0;34m(self, request, stream, auth, follow_redirects)\u001b[0m\n\u001b[1;32m   1609\u001b[0m follow_redirects \u001b[39m=\u001b[39m (\n\u001b[1;32m   1610\u001b[0m     \u001b[39mself\u001b[39m\u001b[39m.\u001b[39mfollow_redirects\n\u001b[1;32m   1611\u001b[0m     \u001b[39mif\u001b[39;00m \u001b[39misinstance\u001b[39m(follow_redirects, UseClientDefault)\n\u001b[1;32m   1612\u001b[0m     \u001b[39melse\u001b[39;00m follow_redirects\n\u001b[1;32m   1613\u001b[0m )\n\u001b[1;32m   1615\u001b[0m auth \u001b[39m=\u001b[39m \u001b[39mself\u001b[39m\u001b[39m.\u001b[39m_build_request_auth(request, auth)\n\u001b[0;32m-> 1617\u001b[0m response \u001b[39m=\u001b[39m \u001b[39mawait\u001b[39;00m \u001b[39mself\u001b[39m\u001b[39m.\u001b[39m_send_handling_auth(\n\u001b[1;32m   1618\u001b[0m     request,\n\u001b[1;32m   1619\u001b[0m     auth\u001b[39m=\u001b[39mauth,\n\u001b[1;32m   1620\u001b[0m     follow_redirects\u001b[39m=\u001b[39mfollow_redirects,\n\u001b[1;32m   1621\u001b[0m     history\u001b[39m=\u001b[39m[],\n\u001b[1;32m   1622\u001b[0m )\n\u001b[1;32m   1623\u001b[0m \u001b[39mtry\u001b[39;00m:\n\u001b[1;32m   1624\u001b[0m     \u001b[39mif\u001b[39;00m \u001b[39mnot\u001b[39;00m stream:\n",
      "File \u001b[0;32m/data/gabrieleb/miniconda/envs/pytorch/lib/python3.11/site-packages/httpx/_client.py:1645\u001b[0m, in \u001b[0;36mAsyncClient._send_handling_auth\u001b[0;34m(self, request, auth, follow_redirects, history)\u001b[0m\n\u001b[1;32m   1642\u001b[0m request \u001b[39m=\u001b[39m \u001b[39mawait\u001b[39;00m auth_flow\u001b[39m.\u001b[39m\u001b[39m__anext__\u001b[39m()\n\u001b[1;32m   1644\u001b[0m \u001b[39mwhile\u001b[39;00m \u001b[39mTrue\u001b[39;00m:\n\u001b[0;32m-> 1645\u001b[0m     response \u001b[39m=\u001b[39m \u001b[39mawait\u001b[39;00m \u001b[39mself\u001b[39m\u001b[39m.\u001b[39m_send_handling_redirects(\n\u001b[1;32m   1646\u001b[0m         request,\n\u001b[1;32m   1647\u001b[0m         follow_redirects\u001b[39m=\u001b[39mfollow_redirects,\n\u001b[1;32m   1648\u001b[0m         history\u001b[39m=\u001b[39mhistory,\n\u001b[1;32m   1649\u001b[0m     )\n\u001b[1;32m   1650\u001b[0m     \u001b[39mtry\u001b[39;00m:\n\u001b[1;32m   1651\u001b[0m         \u001b[39mtry\u001b[39;00m:\n",
      "File \u001b[0;32m/data/gabrieleb/miniconda/envs/pytorch/lib/python3.11/site-packages/httpx/_client.py:1682\u001b[0m, in \u001b[0;36mAsyncClient._send_handling_redirects\u001b[0;34m(self, request, follow_redirects, history)\u001b[0m\n\u001b[1;32m   1679\u001b[0m \u001b[39mfor\u001b[39;00m hook \u001b[39min\u001b[39;00m \u001b[39mself\u001b[39m\u001b[39m.\u001b[39m_event_hooks[\u001b[39m\"\u001b[39m\u001b[39mrequest\u001b[39m\u001b[39m\"\u001b[39m]:\n\u001b[1;32m   1680\u001b[0m     \u001b[39mawait\u001b[39;00m hook(request)\n\u001b[0;32m-> 1682\u001b[0m response \u001b[39m=\u001b[39m \u001b[39mawait\u001b[39;00m \u001b[39mself\u001b[39m\u001b[39m.\u001b[39m_send_single_request(request)\n\u001b[1;32m   1683\u001b[0m \u001b[39mtry\u001b[39;00m:\n\u001b[1;32m   1684\u001b[0m     \u001b[39mfor\u001b[39;00m hook \u001b[39min\u001b[39;00m \u001b[39mself\u001b[39m\u001b[39m.\u001b[39m_event_hooks[\u001b[39m\"\u001b[39m\u001b[39mresponse\u001b[39m\u001b[39m\"\u001b[39m]:\n",
      "File \u001b[0;32m/data/gabrieleb/miniconda/envs/pytorch/lib/python3.11/site-packages/httpx/_client.py:1719\u001b[0m, in \u001b[0;36mAsyncClient._send_single_request\u001b[0;34m(self, request)\u001b[0m\n\u001b[1;32m   1714\u001b[0m     \u001b[39mraise\u001b[39;00m \u001b[39mRuntimeError\u001b[39;00m(\n\u001b[1;32m   1715\u001b[0m         \u001b[39m\"\u001b[39m\u001b[39mAttempted to send an sync request with an AsyncClient instance.\u001b[39m\u001b[39m\"\u001b[39m\n\u001b[1;32m   1716\u001b[0m     )\n\u001b[1;32m   1718\u001b[0m \u001b[39mwith\u001b[39;00m request_context(request\u001b[39m=\u001b[39mrequest):\n\u001b[0;32m-> 1719\u001b[0m     response \u001b[39m=\u001b[39m \u001b[39mawait\u001b[39;00m transport\u001b[39m.\u001b[39mhandle_async_request(request)\n\u001b[1;32m   1721\u001b[0m \u001b[39massert\u001b[39;00m \u001b[39misinstance\u001b[39m(response\u001b[39m.\u001b[39mstream, AsyncByteStream)\n\u001b[1;32m   1722\u001b[0m response\u001b[39m.\u001b[39mrequest \u001b[39m=\u001b[39m request\n",
      "File \u001b[0;32m/data/gabrieleb/miniconda/envs/pytorch/lib/python3.11/site-packages/httpx/_transports/default.py:353\u001b[0m, in \u001b[0;36mAsyncHTTPTransport.handle_async_request\u001b[0;34m(self, request)\u001b[0m\n\u001b[1;32m    340\u001b[0m req \u001b[39m=\u001b[39m httpcore\u001b[39m.\u001b[39mRequest(\n\u001b[1;32m    341\u001b[0m     method\u001b[39m=\u001b[39mrequest\u001b[39m.\u001b[39mmethod,\n\u001b[1;32m    342\u001b[0m     url\u001b[39m=\u001b[39mhttpcore\u001b[39m.\u001b[39mURL(\n\u001b[0;32m   (...)\u001b[0m\n\u001b[1;32m    350\u001b[0m     extensions\u001b[39m=\u001b[39mrequest\u001b[39m.\u001b[39mextensions,\n\u001b[1;32m    351\u001b[0m )\n\u001b[1;32m    352\u001b[0m \u001b[39mwith\u001b[39;00m map_httpcore_exceptions():\n\u001b[0;32m--> 353\u001b[0m     resp \u001b[39m=\u001b[39m \u001b[39mawait\u001b[39;00m \u001b[39mself\u001b[39m\u001b[39m.\u001b[39m_pool\u001b[39m.\u001b[39mhandle_async_request(req)\n\u001b[1;32m    355\u001b[0m \u001b[39massert\u001b[39;00m \u001b[39misinstance\u001b[39m(resp\u001b[39m.\u001b[39mstream, typing\u001b[39m.\u001b[39mAsyncIterable)\n\u001b[1;32m    357\u001b[0m \u001b[39mreturn\u001b[39;00m Response(\n\u001b[1;32m    358\u001b[0m     status_code\u001b[39m=\u001b[39mresp\u001b[39m.\u001b[39mstatus,\n\u001b[1;32m    359\u001b[0m     headers\u001b[39m=\u001b[39mresp\u001b[39m.\u001b[39mheaders,\n\u001b[1;32m    360\u001b[0m     stream\u001b[39m=\u001b[39mAsyncResponseStream(resp\u001b[39m.\u001b[39mstream),\n\u001b[1;32m    361\u001b[0m     extensions\u001b[39m=\u001b[39mresp\u001b[39m.\u001b[39mextensions,\n\u001b[1;32m    362\u001b[0m )\n",
      "File \u001b[0;32m/data/gabrieleb/miniconda/envs/pytorch/lib/python3.11/site-packages/httpcore/_async/connection_pool.py:262\u001b[0m, in \u001b[0;36mAsyncConnectionPool.handle_async_request\u001b[0;34m(self, request)\u001b[0m\n\u001b[1;32m    260\u001b[0m     \u001b[39mwith\u001b[39;00m AsyncShieldCancellation():\n\u001b[1;32m    261\u001b[0m         \u001b[39mawait\u001b[39;00m \u001b[39mself\u001b[39m\u001b[39m.\u001b[39mresponse_closed(status)\n\u001b[0;32m--> 262\u001b[0m     \u001b[39mraise\u001b[39;00m exc\n\u001b[1;32m    263\u001b[0m \u001b[39melse\u001b[39;00m:\n\u001b[1;32m    264\u001b[0m     \u001b[39mbreak\u001b[39;00m\n",
      "File \u001b[0;32m/data/gabrieleb/miniconda/envs/pytorch/lib/python3.11/site-packages/httpcore/_async/connection_pool.py:245\u001b[0m, in \u001b[0;36mAsyncConnectionPool.handle_async_request\u001b[0;34m(self, request)\u001b[0m\n\u001b[1;32m    242\u001b[0m         \u001b[39mraise\u001b[39;00m exc\n\u001b[1;32m    244\u001b[0m \u001b[39mtry\u001b[39;00m:\n\u001b[0;32m--> 245\u001b[0m     response \u001b[39m=\u001b[39m \u001b[39mawait\u001b[39;00m connection\u001b[39m.\u001b[39mhandle_async_request(request)\n\u001b[1;32m    246\u001b[0m \u001b[39mexcept\u001b[39;00m ConnectionNotAvailable:\n\u001b[1;32m    247\u001b[0m     \u001b[39m# The ConnectionNotAvailable exception is a special case, that\u001b[39;00m\n\u001b[1;32m    248\u001b[0m     \u001b[39m# indicates we need to retry the request on a new connection.\u001b[39;00m\n\u001b[0;32m   (...)\u001b[0m\n\u001b[1;32m    252\u001b[0m     \u001b[39m# might end up as an HTTP/2 connection, but which actually ends\u001b[39;00m\n\u001b[1;32m    253\u001b[0m     \u001b[39m# up as HTTP/1.1.\u001b[39;00m\n\u001b[1;32m    254\u001b[0m     \u001b[39masync\u001b[39;00m \u001b[39mwith\u001b[39;00m \u001b[39mself\u001b[39m\u001b[39m.\u001b[39m_pool_lock:\n\u001b[1;32m    255\u001b[0m         \u001b[39m# Maintain our position in the request queue, but reset the\u001b[39;00m\n\u001b[1;32m    256\u001b[0m         \u001b[39m# status so that the request becomes queued again.\u001b[39;00m\n",
      "File \u001b[0;32m/data/gabrieleb/miniconda/envs/pytorch/lib/python3.11/site-packages/httpcore/_async/connection.py:66\u001b[0m, in \u001b[0;36mAsyncHTTPConnection.handle_async_request\u001b[0;34m(self, request)\u001b[0m\n\u001b[1;32m     61\u001b[0m \u001b[39mif\u001b[39;00m \u001b[39mnot\u001b[39;00m \u001b[39mself\u001b[39m\u001b[39m.\u001b[39mcan_handle_request(request\u001b[39m.\u001b[39murl\u001b[39m.\u001b[39morigin):\n\u001b[1;32m     62\u001b[0m     \u001b[39mraise\u001b[39;00m \u001b[39mRuntimeError\u001b[39;00m(\n\u001b[1;32m     63\u001b[0m         \u001b[39mf\u001b[39m\u001b[39m\"\u001b[39m\u001b[39mAttempted to send request to \u001b[39m\u001b[39m{\u001b[39;00mrequest\u001b[39m.\u001b[39murl\u001b[39m.\u001b[39morigin\u001b[39m}\u001b[39;00m\u001b[39m on connection to \u001b[39m\u001b[39m{\u001b[39;00m\u001b[39mself\u001b[39m\u001b[39m.\u001b[39m_origin\u001b[39m}\u001b[39;00m\u001b[39m\"\u001b[39m\n\u001b[1;32m     64\u001b[0m     )\n\u001b[0;32m---> 66\u001b[0m \u001b[39masync\u001b[39;00m \u001b[39mwith\u001b[39;00m \u001b[39mself\u001b[39m\u001b[39m.\u001b[39m_request_lock:\n\u001b[1;32m     67\u001b[0m     \u001b[39mif\u001b[39;00m \u001b[39mself\u001b[39m\u001b[39m.\u001b[39m_connection \u001b[39mis\u001b[39;00m \u001b[39mNone\u001b[39;00m:\n\u001b[1;32m     68\u001b[0m         \u001b[39mtry\u001b[39;00m:\n",
      "File \u001b[0;32m/data/gabrieleb/miniconda/envs/pytorch/lib/python3.11/site-packages/httpcore/_synchronization.py:53\u001b[0m, in \u001b[0;36mAsyncLock.__aenter__\u001b[0;34m(self)\u001b[0m\n\u001b[1;32m     51\u001b[0m     \u001b[39mawait\u001b[39;00m \u001b[39mself\u001b[39m\u001b[39m.\u001b[39m_trio_lock\u001b[39m.\u001b[39macquire()\n\u001b[1;32m     52\u001b[0m \u001b[39melse\u001b[39;00m:\n\u001b[0;32m---> 53\u001b[0m     \u001b[39mawait\u001b[39;00m \u001b[39mself\u001b[39m\u001b[39m.\u001b[39m_anyio_lock\u001b[39m.\u001b[39macquire()\n\u001b[1;32m     55\u001b[0m \u001b[39mreturn\u001b[39;00m \u001b[39mself\u001b[39m\n",
      "File \u001b[0;32m/data/gabrieleb/miniconda/envs/pytorch/lib/python3.11/site-packages/anyio/_core/_synchronization.py:143\u001b[0m, in \u001b[0;36mLock.acquire\u001b[0;34m(self)\u001b[0m\n\u001b[1;32m    141\u001b[0m \u001b[39melse\u001b[39;00m:\n\u001b[1;32m    142\u001b[0m     \u001b[39mtry\u001b[39;00m:\n\u001b[0;32m--> 143\u001b[0m         \u001b[39mawait\u001b[39;00m cancel_shielded_checkpoint()\n\u001b[1;32m    144\u001b[0m     \u001b[39mexcept\u001b[39;00m \u001b[39mBaseException\u001b[39;00m:\n\u001b[1;32m    145\u001b[0m         \u001b[39mself\u001b[39m\u001b[39m.\u001b[39mrelease()\n",
      "File \u001b[0;32m/data/gabrieleb/miniconda/envs/pytorch/lib/python3.11/site-packages/anyio/lowlevel.py:61\u001b[0m, in \u001b[0;36mcancel_shielded_checkpoint\u001b[0;34m()\u001b[0m\n\u001b[1;32m     48\u001b[0m \u001b[39masync\u001b[39;00m \u001b[39mdef\u001b[39;00m \u001b[39mcancel_shielded_checkpoint\u001b[39m() \u001b[39m-\u001b[39m\u001b[39m>\u001b[39m \u001b[39mNone\u001b[39;00m:\n\u001b[1;32m     49\u001b[0m \u001b[39m    \u001b[39m\u001b[39m\"\"\"\u001b[39;00m\n\u001b[1;32m     50\u001b[0m \u001b[39m    Allow the scheduler to switch to another task but without checking for cancellation.\u001b[39;00m\n\u001b[1;32m     51\u001b[0m \n\u001b[0;32m   (...)\u001b[0m\n\u001b[1;32m     59\u001b[0m \n\u001b[1;32m     60\u001b[0m \u001b[39m    \"\"\"\u001b[39;00m\n\u001b[0;32m---> 61\u001b[0m     \u001b[39mawait\u001b[39;00m get_asynclib()\u001b[39m.\u001b[39mcancel_shielded_checkpoint()\n",
      "File \u001b[0;32m/data/gabrieleb/miniconda/envs/pytorch/lib/python3.11/site-packages/anyio/_backends/_asyncio.py:471\u001b[0m, in \u001b[0;36mcancel_shielded_checkpoint\u001b[0;34m()\u001b[0m\n\u001b[1;32m    469\u001b[0m \u001b[39masync\u001b[39;00m \u001b[39mdef\u001b[39;00m \u001b[39mcancel_shielded_checkpoint\u001b[39m() \u001b[39m-\u001b[39m\u001b[39m>\u001b[39m \u001b[39mNone\u001b[39;00m:\n\u001b[1;32m    470\u001b[0m     \u001b[39mwith\u001b[39;00m CancelScope(shield\u001b[39m=\u001b[39m\u001b[39mTrue\u001b[39;00m):\n\u001b[0;32m--> 471\u001b[0m         \u001b[39mawait\u001b[39;00m sleep(\u001b[39m0\u001b[39m)\n",
      "File \u001b[0;32m/data/gabrieleb/miniconda/envs/pytorch/lib/python3.11/asyncio/tasks.py:630\u001b[0m, in \u001b[0;36msleep\u001b[0;34m(delay, result)\u001b[0m\n\u001b[1;32m    628\u001b[0m \u001b[39m\u001b[39m\u001b[39m\"\"\"Coroutine that completes after a given time (in seconds).\"\"\"\u001b[39;00m\n\u001b[1;32m    629\u001b[0m \u001b[39mif\u001b[39;00m delay \u001b[39m<\u001b[39m\u001b[39m=\u001b[39m \u001b[39m0\u001b[39m:\n\u001b[0;32m--> 630\u001b[0m     \u001b[39mawait\u001b[39;00m __sleep0()\n\u001b[1;32m    631\u001b[0m     \u001b[39mreturn\u001b[39;00m result\n\u001b[1;32m    633\u001b[0m loop \u001b[39m=\u001b[39m events\u001b[39m.\u001b[39mget_running_loop()\n",
      "File \u001b[0;32m/data/gabrieleb/miniconda/envs/pytorch/lib/python3.11/asyncio/tasks.py:624\u001b[0m, in \u001b[0;36m__sleep0\u001b[0;34m()\u001b[0m\n\u001b[1;32m    615\u001b[0m \u001b[39m@types\u001b[39m\u001b[39m.\u001b[39mcoroutine\n\u001b[1;32m    616\u001b[0m \u001b[39mdef\u001b[39;00m \u001b[39m__sleep0\u001b[39m():\n\u001b[1;32m    617\u001b[0m \u001b[39m    \u001b[39m\u001b[39m\"\"\"Skip one event loop run cycle.\u001b[39;00m\n\u001b[1;32m    618\u001b[0m \n\u001b[1;32m    619\u001b[0m \u001b[39m    This is a private helper for 'asyncio.sleep()', used\u001b[39;00m\n\u001b[0;32m   (...)\u001b[0m\n\u001b[1;32m    622\u001b[0m \u001b[39m    instead of creating a Future object.\u001b[39;00m\n\u001b[1;32m    623\u001b[0m \u001b[39m    \"\"\"\u001b[39;00m\n\u001b[0;32m--> 624\u001b[0m     \u001b[39myield\u001b[39;00m\n",
      "\u001b[0;31mCancelledError\u001b[0m: "
     ]
    }
   ],
   "source": [
    "#Wasserstein distance \n",
    "\n",
    "metric='sqeuclidean'\n",
    "\n",
    "size = data.size(0)\n",
    "\n",
    "Wasserstein_dist=torch.zeros(size, size, dtype = torch.double).to(device)\n",
    "\n",
    "for i in range (size):\n",
    "    for j in filter(lambda h: h>i, range (size)):\n",
    "        Wasserstein_dist[i][j] = wasserstein_dist(data[i], data[j], metric, d).to(device)\n",
    "    if i%5 == 0:\n",
    "        print(f'Rows done: {(i/size)*100} %')\n",
    "        await send_message(f'Rows done: {(i/size)*100} %')"
   ]
  },
  {
   "cell_type": "code",
   "execution_count": null,
   "metadata": {
    "id": "RblJqJ3z6FlT"
   },
   "outputs": [],
   "source": [
    "torch.save([Wasserstein_dist, targets],'data/MNIST/Wasserstein_dist_validation_eq_s='+str(size))"
   ]
  },
  {
   "cell_type": "markdown",
   "metadata": {
    "id": "u1jduvc_1Tfi"
   },
   "source": [
    "funzione per estrarre valori: scipy.sqrform"
   ]
  }
 ],
 "metadata": {
  "accelerator": "GPU",
  "colab": {
   "provenance": []
  },
  "gpuClass": "standard",
  "kernelspec": {
   "display_name": "pytorch",
   "language": "python",
   "name": "python3"
  },
  "language_info": {
   "codemirror_mode": {
    "name": "ipython",
    "version": 3
   },
   "file_extension": ".py",
   "mimetype": "text/x-python",
   "name": "python",
   "nbconvert_exporter": "python",
   "pygments_lexer": "ipython3",
   "version": "3.11.4"
  }
 },
 "nbformat": 4,
 "nbformat_minor": 4
}
